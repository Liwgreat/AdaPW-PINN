{
 "cells": [
  {
   "cell_type": "code",
   "execution_count": 1,
   "metadata": {
    "ExecuteTime": {
     "end_time": "2024-12-21T03:02:45.688018Z",
     "start_time": "2024-12-21T03:02:44.524554Z"
    }
   },
   "outputs": [],
   "source": [
    "import numpy as np\n",
    "import torch\n",
    "from torch import nn, optim, autograd\n",
    "from torch.nn import functional as F\n",
    "from pyDOE import lhs\n",
    "import scipy.io\n",
    "import matplotlib.pyplot as plt\n",
    "import matplotlib as mpl\n",
    "import matplotlib.gridspec as gridspec\n",
    "%matplotlib inline\n",
    "from mpl_toolkits.axes_grid1 import make_axes_locatable\n",
    "\n",
    "from utils_training import *\n",
    "\n",
    "#Paper reproduction\n",
    "torch.manual_seed(1234)\n",
    "torch.cuda.manual_seed(1234)\n",
    "np.random.seed(1234)"
   ]
  },
  {
   "cell_type": "code",
   "execution_count": null,
   "metadata": {
    "ExecuteTime": {
     "end_time": "2024-12-21T03:02:49.075234Z",
     "start_time": "2024-12-21T03:02:45.690530Z"
    },
    "scrolled": true
   },
   "outputs": [],
   "source": [
    "N_train = 10000 \n",
    "N_bound = 200 \n",
    "\n",
    "la = np.array([5,np.pi/2])\n",
    "lb = np.array([-5,0])\n",
    "\n",
    "traindata = lb+(la-lb)*lhs(2,N_train)\n",
    "\n",
    "x_inside = traindata[:,0:1]\n",
    "t_inside = traindata[:,1:2]\n",
    "\n",
    "x_bound = lb[0]+(la[0]-lb[0])*lhs(1,N_bound)\n",
    "t_bound = lb[1]+(la[1]-lb[1])*lhs(1,N_bound)\n",
    "\n",
    "x_inside_5 = 5*np.ones_like(t_bound)\n",
    "x_inside_fu_5 = -5*np.ones_like(t_bound)\n",
    "\n",
    "x_inside = numpy_to_tensor(x_inside, var_name=\"x_inside\", value_range_dim = True, to_torch = True, to_cuda = True, requires_grad = True)\n",
    "t_inside = numpy_to_tensor(t_inside, var_name=\"t_inside\", value_range_dim = True, to_torch = True, to_cuda = True, requires_grad = True)\n",
    "\n",
    "x_bound = numpy_to_tensor(x_bound, var_name=\"x_bound\", value_range_dim = True, to_torch = True, to_cuda = True, requires_grad = False)\n",
    "t_bound = numpy_to_tensor(t_bound, var_name=\"t_bound\", value_range_dim = True, to_torch = True, to_cuda = True, requires_grad = False)\n",
    "\n",
    "x_inside_5 = numpy_to_tensor(x_inside_5, var_name=\"x_inside_5\", value_range_dim = True, to_torch = True, to_cuda = True, requires_grad = True)\n",
    "x_inside_fu_5 = numpy_to_tensor(x_inside_fu_5, var_name=\"x_inside_fu_5\", value_range_dim = True, to_torch = True, to_cuda = True, requires_grad = True)"
   ]
  },
  {
   "cell_type": "code",
   "execution_count": 3,
   "metadata": {
    "ExecuteTime": {
     "end_time": "2024-12-21T03:02:49.090098Z",
     "start_time": "2024-12-21T03:02:49.078670Z"
    }
   },
   "outputs": [],
   "source": [
    "data = scipy.io.loadmat('./NLS.mat')\n",
    "\n",
    "x_exact = data['x'].flatten()[:,None]\n",
    "t_exact = data['tt'].flatten()[:,None]\n",
    "Exact = data['uu']\n",
    "Exact_u = np.real(Exact)\n",
    "Exact_v = np.imag(Exact)\n",
    "Exact_h = np.sqrt(Exact_u**2 + Exact_v**2)"
   ]
  },
  {
   "cell_type": "code",
   "execution_count": null,
   "metadata": {
    "ExecuteTime": {
     "end_time": "2024-12-21T03:02:49.095974Z",
     "start_time": "2024-12-21T03:02:49.092185Z"
    }
   },
   "outputs": [],
   "source": [
    "print('x:',x_exact.shape)\n",
    "print('t:',t_exact.shape)\n",
    "print('Exact_u:',Exact_u.shape)\n",
    "print('Exact_v:',Exact_v.shape)\n",
    "print('Exact_h:',Exact_h.shape)"
   ]
  },
  {
   "cell_type": "code",
   "execution_count": null,
   "metadata": {
    "ExecuteTime": {
     "end_time": "2024-12-21T03:02:49.101946Z",
     "start_time": "2024-12-21T03:02:49.097967Z"
    }
   },
   "outputs": [],
   "source": [
    "T_exact, X_exact = np.meshgrid(t_exact,x_exact)\n",
    "print('T_exact:',T_exact.shape)\n",
    "print('X_exact:',X_exact.shape)"
   ]
  },
  {
   "cell_type": "code",
   "execution_count": 6,
   "metadata": {
    "ExecuteTime": {
     "end_time": "2024-12-21T03:02:49.109861Z",
     "start_time": "2024-12-21T03:02:49.104015Z"
    }
   },
   "outputs": [],
   "source": [
    "T_exact_flatten = T_exact.flatten()[:,None]\n",
    "X_exact_flatten = X_exact.flatten()[:,None]\n",
    "data_star = np.hstack((X_exact_flatten,T_exact_flatten))\n",
    "u_star = Exact_u.flatten()[:,None]\n",
    "v_star = Exact_v.flatten()[:,None]\n",
    "h_star = Exact_h.flatten()[:,None]"
   ]
  },
  {
   "cell_type": "code",
   "execution_count": null,
   "metadata": {
    "ExecuteTime": {
     "end_time": "2024-12-21T03:02:49.116979Z",
     "start_time": "2024-12-21T03:02:49.111972Z"
    }
   },
   "outputs": [],
   "source": [
    "data_star.shape"
   ]
  },
  {
   "cell_type": "code",
   "execution_count": null,
   "metadata": {
    "ExecuteTime": {
     "end_time": "2024-12-21T03:02:49.126229Z",
     "start_time": "2024-12-21T03:02:49.118830Z"
    }
   },
   "outputs": [],
   "source": [
    "X_star = numpy_to_tensor(data_star, var_name=\"X_star\", value_range_dim = True, to_torch = True, to_cuda = True, requires_grad = False)"
   ]
  },
  {
   "cell_type": "code",
   "execution_count": null,
   "metadata": {
    "ExecuteTime": {
     "end_time": "2024-12-21T03:02:49.138530Z",
     "start_time": "2024-12-21T03:02:49.130494Z"
    }
   },
   "outputs": [],
   "source": [
    "X_star"
   ]
  },
  {
   "cell_type": "code",
   "execution_count": null,
   "metadata": {
    "ExecuteTime": {
     "end_time": "2024-12-21T03:02:49.442589Z",
     "start_time": "2024-12-21T03:02:49.139975Z"
    }
   },
   "outputs": [],
   "source": [
    "fig, ax = plt.subplots()\n",
    "gs0 = gridspec.GridSpec(1, 2)\n",
    "gs0.update(top=1-0.06, bottom=1-1/3, left=0.15, right=0.85, wspace=0)\n",
    "ax = plt.subplot(gs0[:, :])\n",
    "ax.set_xlabel('$t$')\n",
    "ax.set_ylabel('$x$')\n",
    "ax.set_title('$|h(t, x)|$', fontsize = 10)\n",
    "h = ax.imshow(Exact_h, interpolation='nearest', cmap='rainbow', \n",
    "              extent=[lb[1], la[1], lb[0], la[0]], \n",
    "              origin='lower', aspect='auto')\n",
    "divider = make_axes_locatable(ax)\n",
    "cax = divider.append_axes(\"right\", size=\"5%\", pad=0.05)\n",
    "fig.colorbar(h, cax=cax)\n",
    "plt.show()"
   ]
  },
  {
   "cell_type": "code",
   "execution_count": null,
   "metadata": {
    "ExecuteTime": {
     "end_time": "2024-12-21T03:02:49.458305Z",
     "start_time": "2024-12-21T03:02:49.449626Z"
    }
   },
   "outputs": [],
   "source": [
    "np.random.seed(5678)\n",
    "n_test_data = 10000\n",
    "\n",
    "index_test_data = (lhs(1,n_test_data))*len(data_star)\n",
    "index_test_data = np.floor(index_test_data).reshape(n_test_data,).astype(int)\n",
    "\n",
    "test_data = data_star[index_test_data]\n",
    "test_h = h_star[index_test_data]\n",
    "\n",
    "test_data = numpy_to_tensor(test_data, var_name=\"test_data\", value_range_dim = True, to_torch = True, to_cuda = True, requires_grad = False)\n",
    "test_h = numpy_to_tensor(test_h, var_name=\"test_h\", value_range_dim = True, to_torch = True, to_cuda = True, requires_grad = False)"
   ]
  },
  {
   "cell_type": "code",
   "execution_count": 13,
   "metadata": {
    "ExecuteTime": {
     "end_time": "2024-12-21T03:02:49.463030Z",
     "start_time": "2024-12-21T03:02:49.460073Z"
    }
   },
   "outputs": [],
   "source": [
    "def sech(x_input):\n",
    "    sech_x = 2/(torch.exp(x_input)+torch.exp(-x_input))\n",
    "    return sech_x"
   ]
  },
  {
   "cell_type": "code",
   "execution_count": 14,
   "metadata": {
    "ExecuteTime": {
     "end_time": "2024-12-21T03:02:49.468242Z",
     "start_time": "2024-12-21T03:02:49.465041Z"
    }
   },
   "outputs": [],
   "source": [
    "real_x_0 = torch.cat((2*sech(x_bound),torch.zeros_like(x_bound)),axis = 1)"
   ]
  },
  {
   "cell_type": "markdown",
   "metadata": {},
   "source": [
    "## Loss_f"
   ]
  },
  {
   "cell_type": "code",
   "execution_count": 15,
   "metadata": {
    "ExecuteTime": {
     "end_time": "2024-12-21T03:02:49.475859Z",
     "start_time": "2024-12-21T03:02:49.470144Z"
    }
   },
   "outputs": [],
   "source": [
    "def get_loss_f(x_grad, t_grad, PINNs, return_sequence='not'):\n",
    "    \n",
    "    output_inside = PINNs(torch.cat((x_grad, t_grad), 1))\n",
    "    u_inside = output_inside[:,0:1]\n",
    "    v_inside = output_inside[:,1:2]\n",
    "    \n",
    "    u_xx = compute_higher_order_derivatives(u_inside, [x_grad,x_grad])\n",
    "    v_xx = compute_higher_order_derivatives(v_inside, [x_grad,x_grad])\n",
    "\n",
    "    u_t = compute_higher_order_derivatives(u_inside, [t_grad])\n",
    "    v_t = compute_higher_order_derivatives(v_inside, [t_grad])\n",
    "  \n",
    "    f_u = -v_t+0.5*u_xx+(u_inside**2+v_inside**2)*u_inside\n",
    "    f_v = u_t+0.5*v_xx+(u_inside**2+v_inside**2)*v_inside\n",
    "\n",
    "    if return_sequence=='yes':\n",
    "        return torch.square(f_u)+torch.square(f_v)\n",
    "    else:\n",
    "        return torch.mean(torch.square(f_u))+torch.mean(torch.square(f_v)) "
   ]
  },
  {
   "cell_type": "markdown",
   "metadata": {},
   "source": [
    "## loss_bound"
   ]
  },
  {
   "cell_type": "code",
   "execution_count": 16,
   "metadata": {
    "ExecuteTime": {
     "end_time": "2024-12-21T03:02:49.482475Z",
     "start_time": "2024-12-21T03:02:49.477711Z"
    }
   },
   "outputs": [],
   "source": [
    "def get_loss_bound(bound_x, bound_t, PINNs, return_sequence='not'):\n",
    "    \n",
    "    E_x_0 = PINNs1(torch.cat((bound_x,torch.zeros_like(bound_x)),1))\n",
    "    loss_bound_for_a = torch.mean(torch.square(E_x_0-real_x_0))\n",
    "    \n",
    "    E_t_5 = PINNs1(torch.cat((x_inside_5,bound_t),1))\n",
    "    E_t_fu_5 = PINNs1(torch.cat((x_inside_fu_5,bound_t),1))\n",
    "        \n",
    "    loss_bound_for_b = torch.mean(torch.square(E_t_5-E_t_fu_5))\n",
    "    \n",
    "    grad_E_5 = compute_higher_order_derivatives(E_t_5, [x_inside_5])\n",
    "    grad_E_fu_5 = compute_higher_order_derivatives(E_t_fu_5, [x_inside_fu_5])\n",
    "    loss_bound_for_c = torch.mean(torch.square(grad_E_5-grad_E_fu_5))\n",
    "    \n",
    "    loss_bound_value = loss_bound_for_a+loss_bound_for_b+loss_bound_for_c\n",
    "\n",
    "    return loss_bound_value"
   ]
  },
  {
   "cell_type": "code",
   "execution_count": null,
   "metadata": {
    "ExecuteTime": {
     "end_time": "2024-12-21T03:02:49.487805Z",
     "start_time": "2024-12-21T03:02:49.484376Z"
    }
   },
   "outputs": [],
   "source": [
    "if torch.cuda.is_available():\n",
    "    device = \"cuda\"\n",
    "    print(\"Using CUDA on GPU\")\n",
    "else:\n",
    "    device = \"cpu\"\n",
    "    print(\"Using CPU\")"
   ]
  },
  {
   "cell_type": "code",
   "execution_count": 18,
   "metadata": {
    "ExecuteTime": {
     "end_time": "2024-12-21T03:02:49.492610Z",
     "start_time": "2024-12-21T03:02:49.489710Z"
    }
   },
   "outputs": [],
   "source": [
    "torch.manual_seed(1234)\n",
    "torch.cuda.manual_seed(1234)\n",
    "np.random.seed(1234)"
   ]
  },
  {
   "cell_type": "code",
   "execution_count": 19,
   "metadata": {
    "ExecuteTime": {
     "end_time": "2024-12-21T03:02:49.501403Z",
     "start_time": "2024-12-21T03:02:49.494473Z"
    }
   },
   "outputs": [],
   "source": [
    "#x t  ; u v\n",
    "net_settings_for_PINNs1 = NetSetting(input_dims=2, hidden_neurons_list=[100]*5, \n",
    "                                     output_dims=2, hidden_activation='tanh', \n",
    "                                     output_activation=None, initializer_method='xavier')\n",
    "PINNs1 = get_mlp_pinn(net_settings_for_PINNs1)\n",
    "PINNs1.cuda()\n",
    "\n",
    "initialize_weights(PINNs1, net_settings_for_PINNs1.initializer_method)\n",
    "\n",
    "optimizer1 = optim.Adam(PINNs1.parameters(), lr=0.001,betas=(0.9, 0.999), eps=1e-08, weight_decay=0, amsgrad=False)"
   ]
  },
  {
   "cell_type": "code",
   "execution_count": 20,
   "metadata": {
    "ExecuteTime": {
     "end_time": "2024-12-21T03:02:49.509178Z",
     "start_time": "2024-12-21T03:02:49.503444Z"
    }
   },
   "outputs": [],
   "source": [
    "##############PW_L_f###############\n",
    "# e_k = 0.01\n",
    "# q_k = 0.00005\n",
    "# s_k = 0.5\n",
    "e_k = 0.001\n",
    "q_k = 0.00005\n",
    "s_k = 0.7\n",
    "Ada_CL_L_f = Ada_CL(e_k,q_k,s_k,device)\n",
    "weight_sequence_L_f = (1/N_train)*np.ones((N_train,1))\n",
    "##############PW_L_f###############\n",
    "\n",
    "############## plot L_f list ###############  \n",
    "plot_loss_f_list = []\n",
    "X_star_x = X_star[:,0:1]\n",
    "X_star_t = X_star[:,1:2]\n",
    "X_star_x.requires_grad_()\n",
    "X_star_t.requires_grad_()\n",
    "############## plot L_f list ###############  \n",
    "\n",
    "########### record list ###########\n",
    "loss_all_1 = []\n",
    "loss_all_2 = []\n",
    "loss_f_1 = []\n",
    "loss_f_2 = []\n",
    "loss_b_1 = []\n",
    "test_loss_1 = []\n",
    "beta_number_list = []\n",
    "rho_k_list = []\n",
    "loss_f_sequence_list = []\n",
    "weight_sequence_L_f_list = []\n",
    "plot_heat_list = []\n",
    "########### record list ###########"
   ]
  },
  {
   "cell_type": "code",
   "execution_count": null,
   "metadata": {
    "ExecuteTime": {
     "end_time": "2024-12-21T03:12:02.608247Z",
     "start_time": "2024-12-21T03:02:49.511193Z"
    },
    "scrolled": true
   },
   "outputs": [],
   "source": [
    "nIter1 = 20000\n",
    "it = 0\n",
    "\n",
    "while it<nIter1:\n",
    "\n",
    "    ############ loss_bound  ############\n",
    "    loss_bound = get_loss_bound(x_bound, t_bound, PINNs1, return_sequence='not')\n",
    "    \n",
    "    ##############PW_L_f###############\n",
    "    loss_f_sequence = get_loss_f(x_inside,t_inside,PINNs1,return_sequence='yes')\n",
    "    loss_f,weight_sequence_L_f,rho_k,beta_sequence = Ada_CL_L_f.Training_Scheduler_torch(loss_f_sequence, \n",
    "                                                                                         weight_sequence_L_f,\n",
    "                                                                                         alpha_k_function = 'default',\n",
    "                                                                                         record = 'yes')\n",
    "    beta_number_list.append(np.sum(beta_sequence)/N_train)\n",
    "    rho_k_list.append(rho_k)\n",
    "    ##############PW_L_f###############    \n",
    "        \n",
    "    #####loss PI#######\n",
    "    loss = loss_bound*2+loss_f    \n",
    "    \n",
    "    ##################  test_loss NRMSE  ##################\n",
    "    pre_h = torch.sqrt(PINNs1(test_data)[:,0:1]**2 + PINNs1(test_data)[:,1:2]**2)\n",
    "    test_loss = relative_l2_torch(pre_h,test_h)\n",
    "    ##################  test_loss NRMSE  ##################  \n",
    "    \n",
    "    ##############Record###############\n",
    "    test_loss_1.append(test_loss)    \n",
    "    loss_all_2.append(loss.item())\n",
    "    loss_f_2.append(loss_f.item())\n",
    "    loss_b_1.append(loss_bound.item())   \n",
    "    ##############Record###############\n",
    "    \n",
    "    ##############Record Original###############\n",
    "    loss_f_original = get_loss_f(x_inside,t_inside,PINNs1,return_sequence='not')\n",
    "    loss_all_original = loss_f_original+loss_bound*2\n",
    "    loss_all_1.append(loss_all_original.item())\n",
    "    loss_f_1.append(loss_f_original.item())                 \n",
    "    ##############Record Original###############\n",
    "    \n",
    "    if it % 1000 == 0:\n",
    "        plot_loss_f_list.append(get_loss_f(X_star_x,X_star_t,PINNs1,return_sequence='yes').cpu().detach().numpy())\n",
    "        loss_f_sequence_list.append(loss_f_sequence.cpu().detach().numpy())\n",
    "        weight_sequence_L_f_list.append(weight_sequence_L_f)\n",
    "        plot_heat_list.append(PINNs1(X_star).cpu().detach().numpy())\n",
    "        print('It:', it, 'train_loss:', loss.item(), 'test_loss:', test_loss) \n",
    "\n",
    "    optimizer1.zero_grad()\n",
    "    loss.backward()\n",
    "    optimizer1.step()\n",
    "    \n",
    "    it = it + 1   \n",
    "\n",
    "print('Final:', 'train_loss:', loss.item(), 'test_loss:', test_loss)"
   ]
  },
  {
   "cell_type": "code",
   "execution_count": null,
   "metadata": {},
   "outputs": [],
   "source": []
  }
 ],
 "metadata": {
  "kernelspec": {
   "display_name": "Python (deepxde)",
   "language": "python",
   "name": "test2"
  },
  "language_info": {
   "codemirror_mode": {
    "name": "ipython",
    "version": 3
   },
   "file_extension": ".py",
   "mimetype": "text/x-python",
   "name": "python",
   "nbconvert_exporter": "python",
   "pygments_lexer": "ipython3",
   "version": "3.7.12"
  },
  "toc": {
   "base_numbering": 1,
   "nav_menu": {},
   "number_sections": true,
   "sideBar": true,
   "skip_h1_title": false,
   "title_cell": "Table of Contents",
   "title_sidebar": "Contents",
   "toc_cell": false,
   "toc_position": {
    "height": "calc(100% - 180px)",
    "left": "10px",
    "top": "150px",
    "width": "186.933px"
   },
   "toc_section_display": true,
   "toc_window_display": false
  },
  "varInspector": {
   "cols": {
    "lenName": 16,
    "lenType": 16,
    "lenVar": 40
   },
   "kernels_config": {
    "python": {
     "delete_cmd_postfix": "",
     "delete_cmd_prefix": "del ",
     "library": "var_list.py",
     "varRefreshCmd": "print(var_dic_list())"
    },
    "r": {
     "delete_cmd_postfix": ") ",
     "delete_cmd_prefix": "rm(",
     "library": "var_list.r",
     "varRefreshCmd": "cat(var_dic_list()) "
    }
   },
   "types_to_exclude": [
    "module",
    "function",
    "builtin_function_or_method",
    "instance",
    "_Feature"
   ],
   "window_display": false
  }
 },
 "nbformat": 4,
 "nbformat_minor": 2
}
