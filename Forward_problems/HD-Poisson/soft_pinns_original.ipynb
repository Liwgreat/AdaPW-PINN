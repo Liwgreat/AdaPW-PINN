{
 "cells": [
  {
   "cell_type": "code",
   "execution_count": 1,
   "metadata": {
    "ExecuteTime": {
     "end_time": "2024-12-28T06:12:01.639586Z",
     "start_time": "2024-12-28T06:12:00.223782Z"
    }
   },
   "outputs": [],
   "source": [
    "import numpy as np\n",
    "import torch\n",
    "%matplotlib inline\n",
    "from torch import nn, optim, autograd\n",
    "from torch.nn import functional as F\n",
    "from pyDOE import lhs\n",
    "import numpy as np\n",
    "import matplotlib.pyplot as plt\n",
    "import matplotlib as mpl\n",
    "import matplotlib.gridspec as gridspec\n",
    "%matplotlib inline\n",
    "from mpl_toolkits.axes_grid1 import make_axes_locatable\n",
    "\n",
    "from utils_training import *\n",
    "\n",
    "random_seed = 1234\n",
    "np.random.seed(random_seed)"
   ]
  },
  {
   "cell_type": "code",
   "execution_count": 2,
   "metadata": {
    "ExecuteTime": {
     "end_time": "2024-12-28T06:12:01.669638Z",
     "start_time": "2024-12-28T06:12:01.645242Z"
    }
   },
   "outputs": [],
   "source": [
    "N_train = 10000\n",
    "N_bound = 500\n",
    "\n",
    "train_data = lhs(10,N_train)"
   ]
  },
  {
   "cell_type": "code",
   "execution_count": null,
   "metadata": {
    "ExecuteTime": {
     "end_time": "2024-12-28T06:12:07.055710Z",
     "start_time": "2024-12-28T06:12:01.671806Z"
    }
   },
   "outputs": [],
   "source": [
    "bound_x_0_list = []\n",
    "for i in range(10):\n",
    "    bound_x_temp = lhs(10, N_bound)\n",
    "    bound_x_temp[:, i:i+1] = np.zeros((N_bound, 1))\n",
    "    bound_x_0_list.append(bound_x_temp)\n",
    "\n",
    "bound_x_0 = np.concatenate(bound_x_0_list, axis=0)\n",
    "\n",
    "bound_x_1_list = []\n",
    "for i in range(10):\n",
    "    bound_x_temp = lhs(10, N_bound)\n",
    "    bound_x_temp[:, i:i+1] = np.ones((N_bound, 1))\n",
    "    bound_x_1_list.append(bound_x_temp)\n",
    "\n",
    "bound_x_1 = np.concatenate(bound_x_1_list, axis=0)\n",
    "\n",
    "bound_x_data = np.concatenate((bound_x_0, bound_x_1), axis=0)\n",
    "\n",
    "bound_x_data = numpy_to_tensor(bound_x_data, var_name=\"bound_x_data\", value_range_dim = True, to_torch = True, to_cuda = True, requires_grad = False)"
   ]
  },
  {
   "cell_type": "markdown",
   "metadata": {},
   "source": [
    "## Exact u"
   ]
  },
  {
   "cell_type": "code",
   "execution_count": 4,
   "metadata": {
    "ExecuteTime": {
     "end_time": "2024-12-28T06:12:07.064291Z",
     "start_time": "2024-12-28T06:12:07.058476Z"
    }
   },
   "outputs": [],
   "source": [
    "def u_solution(data_input):\n",
    "    \n",
    "    x1 = data_input[:, 0:1]\n",
    "    x2 = data_input[:, 1:2]\n",
    "    x3 = data_input[:, 2:3]\n",
    "    x4 = data_input[:, 3:4]\n",
    "    x5 = data_input[:, 4:5]\n",
    "    x6 = data_input[:, 5:6]\n",
    "    x7 = data_input[:, 6:7]\n",
    "    x8 = data_input[:, 7:8]\n",
    "    x9 = data_input[:, 8:9]\n",
    "    x10 = data_input[:, 9:10]\n",
    "    \n",
    "    u_value = x1**2-x2**2+x3**2-x4**2+x5*x6+x7*x8*x9*x10\n",
    "    \n",
    "    return u_value"
   ]
  },
  {
   "cell_type": "markdown",
   "metadata": {},
   "source": [
    "### Test Data"
   ]
  },
  {
   "cell_type": "code",
   "execution_count": null,
   "metadata": {
    "ExecuteTime": {
     "end_time": "2024-12-28T06:12:07.103599Z",
     "start_time": "2024-12-28T06:12:07.066607Z"
    }
   },
   "outputs": [],
   "source": [
    "np.random.seed(5678)\n",
    "test_data = lhs(10,N_train)\n",
    "test_u = u_solution(test_data)\n",
    "\n",
    "test_data = numpy_to_tensor(test_data, var_name=\"test_data\", value_range_dim = True, to_torch = True, to_cuda = True, requires_grad = False)\n",
    "test_u = numpy_to_tensor(test_u, var_name=\"test_u\", value_range_dim = True, to_torch = True, to_cuda = True, requires_grad = False)"
   ]
  },
  {
   "cell_type": "markdown",
   "metadata": {},
   "source": [
    "## Loss_f"
   ]
  },
  {
   "cell_type": "code",
   "execution_count": 6,
   "metadata": {
    "ExecuteTime": {
     "end_time": "2024-12-28T06:12:07.119355Z",
     "start_time": "2024-12-28T06:12:07.106682Z"
    }
   },
   "outputs": [],
   "source": [
    "def get_loss_f(train_data_input, PINNs, return_sequence='not'):\n",
    "    \n",
    "    # Extract f_data into individual variables (x1, x2, ..., x10)\n",
    "    x1_inside = train_data_input[:, 0:1]\n",
    "    x2_inside = train_data_input[:, 1:2]\n",
    "    x3_inside = train_data_input[:, 2:3]\n",
    "    x4_inside = train_data_input[:, 3:4]\n",
    "    x5_inside = train_data_input[:, 4:5]\n",
    "    x6_inside = train_data_input[:, 5:6]\n",
    "    x7_inside = train_data_input[:, 6:7]\n",
    "    x8_inside = train_data_input[:, 7:8]\n",
    "    x9_inside = train_data_input[:, 8:9]\n",
    "    x10_inside = train_data_input[:, 9:10]\n",
    "\n",
    "    x1_inside = numpy_to_tensor(x1_inside, var_name=\"x1_inside\", value_range_dim = False, to_torch = True, to_cuda = True, requires_grad = True)\n",
    "    x2_inside = numpy_to_tensor(x2_inside, var_name=\"x2_inside\", value_range_dim = False, to_torch = True, to_cuda = True, requires_grad = True)\n",
    "    x3_inside = numpy_to_tensor(x3_inside, var_name=\"x3_inside\", value_range_dim = False, to_torch = True, to_cuda = True, requires_grad = True)\n",
    "    x4_inside = numpy_to_tensor(x4_inside, var_name=\"x4_inside\", value_range_dim = False, to_torch = True, to_cuda = True, requires_grad = True)\n",
    "    x5_inside = numpy_to_tensor(x5_inside, var_name=\"x5_inside\", value_range_dim = False, to_torch = True, to_cuda = True, requires_grad = True)\n",
    "    x6_inside = numpy_to_tensor(x6_inside, var_name=\"x6_inside\", value_range_dim = False, to_torch = True, to_cuda = True, requires_grad = True)\n",
    "    x7_inside = numpy_to_tensor(x7_inside, var_name=\"x7_inside\", value_range_dim = False, to_torch = True, to_cuda = True, requires_grad = True)\n",
    "    x8_inside = numpy_to_tensor(x8_inside, var_name=\"x8_inside\", value_range_dim = False, to_torch = True, to_cuda = True, requires_grad = True)\n",
    "    x9_inside = numpy_to_tensor(x9_inside, var_name=\"x9_inside\", value_range_dim = False, to_torch = True, to_cuda = True, requires_grad = True)\n",
    "    x10_inside = numpy_to_tensor(x10_inside, var_name=\"x10_inside\", value_range_dim = False, to_torch = True, to_cuda = True, requires_grad = True) \n",
    "    \n",
    "    E_inside = PINNs1(torch.cat((x1_inside,x2_inside,x3_inside,x4_inside,x5_inside,x6_inside,x7_inside,x8_inside,x9_inside,x10_inside),1))\n",
    "    \n",
    "    E_xx1 = compute_higher_order_derivatives(E_inside, [x1_inside,x1_inside])\n",
    "    E_xx2 = compute_higher_order_derivatives(E_inside, [x2_inside,x2_inside])\n",
    "    E_xx3 = compute_higher_order_derivatives(E_inside, [x3_inside,x3_inside])\n",
    "    E_xx4 = compute_higher_order_derivatives(E_inside, [x4_inside,x4_inside])\n",
    "    E_xx5 = compute_higher_order_derivatives(E_inside, [x5_inside,x5_inside])\n",
    "    E_xx6 = compute_higher_order_derivatives(E_inside, [x6_inside,x6_inside])\n",
    "    E_xx7 = compute_higher_order_derivatives(E_inside, [x7_inside,x7_inside])\n",
    "    E_xx8 = compute_higher_order_derivatives(E_inside, [x8_inside,x8_inside])\n",
    "    E_xx9 = compute_higher_order_derivatives(E_inside, [x9_inside,x9_inside])\n",
    "    E_xx10 = compute_higher_order_derivatives(E_inside, [x10_inside,x10_inside])\n",
    "    \n",
    "    loss_term = E_xx1+E_xx2+E_xx3+E_xx4+E_xx5+E_xx6+E_xx7+E_xx8+E_xx9+E_xx10\n",
    "    \n",
    "    if return_sequence == 'yes':\n",
    "        return torch.square(loss_term)\n",
    "    else:\n",
    "        return torch.mean(torch.square(loss_term))"
   ]
  },
  {
   "cell_type": "markdown",
   "metadata": {},
   "source": [
    "# PINN"
   ]
  },
  {
   "cell_type": "code",
   "execution_count": 7,
   "metadata": {
    "ExecuteTime": {
     "end_time": "2024-12-28T06:12:07.125082Z",
     "start_time": "2024-12-28T06:12:07.121568Z"
    }
   },
   "outputs": [],
   "source": [
    "#Paper reproduction\n",
    "torch.manual_seed(1234)\n",
    "torch.cuda.manual_seed(1234)\n",
    "np.random.seed(random_seed)"
   ]
  },
  {
   "cell_type": "code",
   "execution_count": 8,
   "metadata": {
    "ExecuteTime": {
     "end_time": "2024-12-28T06:12:07.149834Z",
     "start_time": "2024-12-28T06:12:07.129548Z"
    }
   },
   "outputs": [],
   "source": [
    "net_settings_for_PINNs1 = NetSetting(input_dims=10, hidden_neurons_list=[100]*5, \n",
    "                                     output_dims=1, hidden_activation='tanh', \n",
    "                                     output_activation=None, initializer_method='xavier')\n",
    "PINNs1 = get_mlp_pinn(net_settings_for_PINNs1)\n",
    "PINNs1.cuda()\n",
    "\n",
    "initialize_weights(PINNs1, net_settings_for_PINNs1.initializer_method)\n",
    "\n",
    "optimizer1 = optim.Adam([{'params': PINNs1.parameters()}], lr=1e-3)"
   ]
  },
  {
   "cell_type": "code",
   "execution_count": 9,
   "metadata": {
    "ExecuteTime": {
     "end_time": "2024-12-28T06:12:07.156100Z",
     "start_time": "2024-12-28T06:12:07.152021Z"
    }
   },
   "outputs": [],
   "source": [
    "def create_mini_batches(train_data_new, batch_size):\n",
    "    \n",
    "    indices = np.arange(len(train_data_new))\n",
    "    np.random.shuffle(indices)\n",
    "    \n",
    "    for start_idx in range(0, len(train_data_new) - batch_size + 1, batch_size):\n",
    "        \n",
    "        excerpt_batch = indices[start_idx:start_idx + batch_size]\n",
    "        train_data_batch = train_data_new[excerpt_batch,:]\n",
    "\n",
    "        yield train_data_batch, excerpt_batch"
   ]
  },
  {
   "cell_type": "code",
   "execution_count": 10,
   "metadata": {
    "ExecuteTime": {
     "end_time": "2024-12-28T06:12:07.162546Z",
     "start_time": "2024-12-28T06:12:07.158297Z"
    }
   },
   "outputs": [],
   "source": [
    "def update_collocation_points(Number_select, Number_all):\n",
    "\n",
    "    # Training data\n",
    "    train_data = lhs(10,N_train)\n",
    "    \n",
    "    random_indices_perm = torch.randperm(Number_all)\n",
    "    random_indices = random_indices_perm[:Number_select]\n",
    "    \n",
    "    train_data_new = train_data[random_indices,:]\n",
    "\n",
    "    return train_data_new"
   ]
  },
  {
   "cell_type": "code",
   "execution_count": 11,
   "metadata": {
    "ExecuteTime": {
     "end_time": "2024-12-28T06:12:07.168340Z",
     "start_time": "2024-12-28T06:12:07.164616Z"
    }
   },
   "outputs": [],
   "source": [
    "loss_f_1 = []\n",
    "loss_b_1 = []\n",
    "loss_all_1 = []\n",
    "test_loss_1 = []"
   ]
  },
  {
   "cell_type": "code",
   "execution_count": null,
   "metadata": {
    "ExecuteTime": {
     "end_time": "2024-12-28T06:23:50.478728Z",
     "start_time": "2024-12-28T06:12:07.170591Z"
    },
    "scrolled": false
   },
   "outputs": [],
   "source": [
    "nIter2 = 1000\n",
    "it = 0\n",
    "Number_select = 10000\n",
    "Number_all = 10000\n",
    "batch_size = 1000\n",
    "\n",
    "while it<nIter2 :\n",
    "    \n",
    "    if it:\n",
    "        train_data = update_collocation_points(Number_select, Number_all)\n",
    "    \n",
    "    for train_data_batch, batch_indices in create_mini_batches(train_data, batch_size):\n",
    "        \n",
    "        ##### loss bound ######\n",
    "        E_bound = PINNs1(bound_x_data)\n",
    "        real_bound = u_solution(bound_x_data)\n",
    "        loss_bound = torch.mean(torch.square(E_bound-real_bound))\n",
    "\n",
    "        #### loss f  ######     \n",
    "        loss_f = get_loss_f(train_data_batch, PINNs1, return_sequence='not')\n",
    "\n",
    "        #####loss PI#######\n",
    "        loss = loss_bound+loss_f \n",
    "  \n",
    "        optimizer1.zero_grad()\n",
    "        loss.backward()\n",
    "        optimizer1.step()\n",
    "        \n",
    "    #########  test_loss NRMSE  #########\n",
    "    pre_u = PINNs1(test_data)  \n",
    "    test_loss = relative_l2_torch(pre_u,test_u)\n",
    "    test_loss_1.append(test_loss)\n",
    "    #########  test_loss NRMSE  #########\n",
    "\n",
    "    ##############Record###############\n",
    "    loss_all_1.append(loss.item())\n",
    "    loss_f_1.append(loss_f.item())\n",
    "    loss_b_1.append(loss_bound.item())\n",
    "    ##############Record############### \n",
    "    \n",
    "    if it % 100 == 0:\n",
    "        print(f'It: {it}, train_loss: {loss.item()}, test_loss: {test_loss}, best_test_loss: {min(test_loss_1):.4f}')\n",
    "    it = it + 1            "
   ]
  },
  {
   "cell_type": "code",
   "execution_count": null,
   "metadata": {},
   "outputs": [],
   "source": []
  },
  {
   "cell_type": "code",
   "execution_count": null,
   "metadata": {},
   "outputs": [],
   "source": []
  }
 ],
 "metadata": {
  "kernelspec": {
   "display_name": "GA-PINNs",
   "language": "python",
   "name": "gapings"
  },
  "language_info": {
   "codemirror_mode": {
    "name": "ipython",
    "version": 3
   },
   "file_extension": ".py",
   "mimetype": "text/x-python",
   "name": "python",
   "nbconvert_exporter": "python",
   "pygments_lexer": "ipython3",
   "version": "3.7.12"
  },
  "toc": {
   "base_numbering": 1,
   "nav_menu": {},
   "number_sections": true,
   "sideBar": true,
   "skip_h1_title": false,
   "title_cell": "Table of Contents",
   "title_sidebar": "Contents",
   "toc_cell": false,
   "toc_position": {
    "height": "calc(100% - 180px)",
    "left": "10px",
    "top": "150px",
    "width": "165px"
   },
   "toc_section_display": true,
   "toc_window_display": false
  },
  "varInspector": {
   "cols": {
    "lenName": 16,
    "lenType": 16,
    "lenVar": 40
   },
   "kernels_config": {
    "python": {
     "delete_cmd_postfix": "",
     "delete_cmd_prefix": "del ",
     "library": "var_list.py",
     "varRefreshCmd": "print(var_dic_list())"
    },
    "r": {
     "delete_cmd_postfix": ") ",
     "delete_cmd_prefix": "rm(",
     "library": "var_list.r",
     "varRefreshCmd": "cat(var_dic_list()) "
    }
   },
   "types_to_exclude": [
    "module",
    "function",
    "builtin_function_or_method",
    "instance",
    "_Feature"
   ],
   "window_display": false
  }
 },
 "nbformat": 4,
 "nbformat_minor": 2
}
