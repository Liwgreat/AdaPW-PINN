{
 "cells": [
  {
   "cell_type": "code",
   "execution_count": 26,
   "id": "edb77347",
   "metadata": {
    "ExecuteTime": {
     "end_time": "2024-12-21T07:47:40.569869Z",
     "start_time": "2024-12-21T07:47:40.563000Z"
    }
   },
   "outputs": [],
   "source": [
    "import numpy as np\n",
    "import torch\n",
    "from torch import nn, optim, autograd\n",
    "from torch.nn import functional as F\n",
    "import torch.nn.init as init\n",
    "from pyDOE import lhs\n",
    "import scipy.io\n",
    "import matplotlib.pyplot as plt\n",
    "import matplotlib as mpl\n",
    "import matplotlib.gridspec as gridspec\n",
    "%matplotlib inline\n",
    "from mpl_toolkits.axes_grid1 import make_axes_locatable\n",
    "\n",
    "from utils_training import *\n",
    "\n",
    "#Paper reproduction\n",
    "torch.manual_seed(1234)\n",
    "torch.cuda.manual_seed(1234)\n",
    "np.random.seed(1234)"
   ]
  },
  {
   "cell_type": "code",
   "execution_count": null,
   "id": "337a7923",
   "metadata": {
    "ExecuteTime": {
     "end_time": "2024-12-21T07:47:40.583319Z",
     "start_time": "2024-12-21T07:47:40.572286Z"
    }
   },
   "outputs": [],
   "source": [
    "N_train = 1000\n",
    "N_bound = 100\n",
    "\n",
    "# x,t\n",
    "la = np.array([1,1])\n",
    "lb = np.array([-1,0])\n",
    "\n",
    "traindata = lb+(la-lb)*lhs(2,N_train)\n",
    "x_inside = traindata[:,0:1]\n",
    "t_inside = traindata[:,1:2]\n",
    "\n",
    "x_inside = numpy_to_tensor(x_inside, var_name=\"x_inside\", value_range_dim = True, to_torch = True, to_cuda = True, requires_grad = True)\n",
    "t_inside = numpy_to_tensor(t_inside, var_name=\"t_inside\", value_range_dim = True, to_torch = True, to_cuda = True, requires_grad = True)\n",
    "\n",
    "x_bound = lb[0]+(la[0]-lb[0])*lhs(1,N_bound)\n",
    "t_bound = lb[1]+(la[1]-lb[1])*lhs(1,N_bound)\n",
    "\n",
    "x_bound = numpy_to_tensor(x_bound, var_name=\"x_bound\", value_range_dim = True, to_torch = True, to_cuda = True, requires_grad = False)\n",
    "t_bound = numpy_to_tensor(t_bound, var_name=\"t_bound\", value_range_dim = True, to_torch = True, to_cuda = True, requires_grad = False)"
   ]
  },
  {
   "cell_type": "code",
   "execution_count": null,
   "id": "ecf6b693",
   "metadata": {},
   "outputs": [],
   "source": []
  },
  {
   "cell_type": "code",
   "execution_count": null,
   "id": "5415d964",
   "metadata": {
    "ExecuteTime": {
     "end_time": "2024-12-21T07:47:40.593296Z",
     "start_time": "2024-12-21T07:47:40.586219Z"
    }
   },
   "outputs": [],
   "source": [
    "from scipy.io import loadmat\n",
    "\n",
    "data = loadmat(\"usol_D_0.001_k_5.mat\")\n",
    "\n",
    "t_exact = data[\"t\"].reshape(-1,1)\n",
    "\n",
    "x_exact = data[\"x\"].reshape(-1,1)\n",
    "\n",
    "Exact_u = data[\"u\"]\n",
    "\n",
    "print('t_exact:',t_exact.shape)\n",
    "print('x_exact:',x_exact.shape)\n",
    "print('Exact_u:',Exact_u.shape)"
   ]
  },
  {
   "cell_type": "code",
   "execution_count": null,
   "id": "16a91509",
   "metadata": {
    "ExecuteTime": {
     "end_time": "2024-12-21T07:47:40.601005Z",
     "start_time": "2024-12-21T07:47:40.595453Z"
    }
   },
   "outputs": [],
   "source": [
    "X_exact, T_exact = np.meshgrid(x_exact,t_exact)\n",
    "print('X_exact:',X_exact.shape)\n",
    "print('T_exact:',T_exact.shape)\n",
    "\n",
    "X_exact_flatten = X_exact.flatten()[:,None]\n",
    "T_exact_flatten = T_exact.flatten()[:,None]\n",
    "data_star = np.hstack((X_exact_flatten,T_exact_flatten))\n",
    "u_star = Exact_u.flatten()[:,None] "
   ]
  },
  {
   "cell_type": "code",
   "execution_count": null,
   "id": "7fbee49d",
   "metadata": {
    "ExecuteTime": {
     "end_time": "2024-12-21T07:47:40.607698Z",
     "start_time": "2024-12-21T07:47:40.603131Z"
    }
   },
   "outputs": [],
   "source": [
    "data_star.shape"
   ]
  },
  {
   "cell_type": "code",
   "execution_count": null,
   "id": "4e30d42f",
   "metadata": {
    "ExecuteTime": {
     "end_time": "2024-12-21T07:47:40.614710Z",
     "start_time": "2024-12-21T07:47:40.609869Z"
    }
   },
   "outputs": [],
   "source": [
    "X_exact"
   ]
  },
  {
   "cell_type": "code",
   "execution_count": null,
   "id": "6cd791a5",
   "metadata": {
    "ExecuteTime": {
     "end_time": "2024-12-21T07:47:40.621562Z",
     "start_time": "2024-12-21T07:47:40.616819Z"
    }
   },
   "outputs": [],
   "source": [
    "T_exact"
   ]
  },
  {
   "cell_type": "code",
   "execution_count": null,
   "id": "8db536e6",
   "metadata": {
    "ExecuteTime": {
     "end_time": "2024-12-21T07:47:40.808991Z",
     "start_time": "2024-12-21T07:47:40.623599Z"
    }
   },
   "outputs": [],
   "source": [
    "plt.imshow(Exact_u,extent=[-1, 1, 0, 1],\n",
    "            origin='lower', cmap='rainbow')\n",
    "\n",
    "plt.colorbar(shrink=.5)\n",
    "\n",
    "plt.show()"
   ]
  },
  {
   "cell_type": "code",
   "execution_count": null,
   "id": "493959f8",
   "metadata": {
    "ExecuteTime": {
     "end_time": "2024-12-21T07:47:40.820450Z",
     "start_time": "2024-12-21T07:47:40.813092Z"
    }
   },
   "outputs": [],
   "source": [
    "number_observe_data = 100\n",
    "\n",
    "index_observe = (lhs(1,number_observe_data))*data_star.shape[0]\n",
    "index_observe = np.floor(index_observe).reshape(number_observe_data,).astype(int)\n",
    "observe_data = data_star[index_observe,:]\n",
    "observe_u = u_star[index_observe,:]\n",
    "\n",
    "observe_data = numpy_to_tensor(observe_data, var_name=\"observe_data\", value_range_dim = True, to_torch = True, to_cuda = True, requires_grad = True)\n",
    "observe_u = numpy_to_tensor(observe_u, var_name=\"observe_u\", value_range_dim = True, to_torch = True, to_cuda = True, requires_grad = True)\n",
    "print('J:',len(observe_u))\n",
    "\n",
    "observe_data_x_inside = observe_data[:,0:1]\n",
    "observe_data_t_inside = observe_data[:,1:2]"
   ]
  },
  {
   "cell_type": "code",
   "execution_count": null,
   "id": "f53eba1d",
   "metadata": {
    "ExecuteTime": {
     "end_time": "2024-12-21T07:47:40.833062Z",
     "start_time": "2024-12-21T07:47:40.822720Z"
    }
   },
   "outputs": [],
   "source": [
    "n_test_data = 10000\n",
    "\n",
    "index_observe = (lhs(1,n_test_data))*data_star.shape[0]\n",
    "index_observe = np.floor(index_observe).reshape(n_test_data,).astype(int)\n",
    "test_data = data_star[index_observe,:]\n",
    "test_u = u_star[index_observe,:]\n",
    "\n",
    "test_data = numpy_to_tensor(test_data, var_name=\"observe_data\", value_range_dim = True, to_torch = True, to_cuda = True, requires_grad = True)\n",
    "test_u = numpy_to_tensor(test_u, var_name=\"observe_u\", value_range_dim = True, to_torch = True, to_cuda = True, requires_grad = True)\n",
    "\n",
    "test_data_x_inside = observe_data[:,0:1]\n",
    "test_data_t_inside = observe_data[:,1:2]"
   ]
  },
  {
   "cell_type": "code",
   "execution_count": 36,
   "id": "d5a2b8a1",
   "metadata": {
    "ExecuteTime": {
     "end_time": "2024-12-21T07:47:40.837776Z",
     "start_time": "2024-12-21T07:47:40.835093Z"
    }
   },
   "outputs": [],
   "source": [
    "# C1 = torch.tensor(0.5, requires_grad=True)"
   ]
  },
  {
   "cell_type": "code",
   "execution_count": null,
   "id": "04e4b5f1",
   "metadata": {
    "ExecuteTime": {
     "end_time": "2024-12-21T07:47:40.843708Z",
     "start_time": "2024-12-21T07:47:40.839974Z"
    }
   },
   "outputs": [],
   "source": [
    "print('J:',len(observe_u))"
   ]
  },
  {
   "cell_type": "code",
   "execution_count": 38,
   "id": "c674bf38",
   "metadata": {
    "ExecuteTime": {
     "end_time": "2024-12-21T07:47:40.850159Z",
     "start_time": "2024-12-21T07:47:40.845893Z"
    }
   },
   "outputs": [],
   "source": [
    "def output_transform(data_input, u_input):\n",
    "    \n",
    "    x_in = data_input[:,0:1]\n",
    "    t_in = data_input[:,1:2]\n",
    "    \n",
    "    return x_in**2 * torch.cos(torch.tensor(np.pi) * x_in) + t_in * (1 - x_in**2) * u_input"
   ]
  },
  {
   "cell_type": "markdown",
   "id": "c1c8c11a",
   "metadata": {},
   "source": [
    "## Loss_f"
   ]
  },
  {
   "cell_type": "code",
   "execution_count": 39,
   "id": "f8dbd5ab",
   "metadata": {
    "ExecuteTime": {
     "end_time": "2024-12-21T07:47:40.859203Z",
     "start_time": "2024-12-21T07:47:40.852406Z"
    }
   },
   "outputs": [],
   "source": [
    "def get_loss_f(x_grad, y_grad, PINNs, C, return_sequence='not'):\n",
    "\n",
    "    E_inside = PINNs(torch.cat((x_grad,y_grad),axis=1))\n",
    "    E_inside = output_transform(torch.cat((x_grad,y_grad),axis=1),E_inside)\n",
    "    \n",
    "    E_x = compute_higher_order_derivatives(E_inside, [x_grad])\n",
    "    E_xx = compute_higher_order_derivatives(E_x, [x_grad])\n",
    "    E_xxx = compute_higher_order_derivatives(E_xx, [x_grad])\n",
    "    E_xxt = compute_higher_order_derivatives(E_xx, [y_grad])\n",
    "    E_t = compute_higher_order_derivatives(E_inside, [y_grad])\n",
    "    E_tx = compute_higher_order_derivatives(E_t, [x_grad])\n",
    "    E_tt = compute_higher_order_derivatives(E_t, [y_grad])\n",
    "\n",
    "    loss_term = E_t - C * E_xx - 5 * (E_inside - E_inside**3)\n",
    "\n",
    "    if return_sequence == 'yes':\n",
    "        return torch.square(loss_term)\n",
    "    else:\n",
    "        return torch.mean(torch.square(loss_term))"
   ]
  },
  {
   "cell_type": "markdown",
   "id": "9a8378a2",
   "metadata": {},
   "source": [
    "## loss_bound"
   ]
  },
  {
   "cell_type": "code",
   "execution_count": 40,
   "id": "ab439bd2",
   "metadata": {
    "ExecuteTime": {
     "end_time": "2024-12-21T07:47:40.867638Z",
     "start_time": "2024-12-21T07:47:40.861473Z"
    }
   },
   "outputs": [],
   "source": [
    "def get_loss_bound(bound_x, bound_t, PINNs, C, return_sequence='not'):\n",
    "\n",
    "    E_bound_x_zero = PINNs(torch.cat((bound_x,torch.zeros_like(bound_x)),axis=1)) \n",
    "    Exact_x_zero = bound_x**2*torch.cos(torch.tensor(np.pi)*bound_x)\n",
    "    loss_bound_for_a = torch.mean(torch.square(E_bound_x_zero-Exact_x_zero))\n",
    "    \n",
    "    E_bound_fu_1_t = PINNs(torch.cat((-torch.ones_like(bound_t),bound_t),axis=1)) \n",
    "    Exact_fu_1_t = -torch.ones_like(E_bound_fu_1_t)\n",
    "    loss_bound_for_b = torch.mean(torch.square(E_bound_fu_1_t-Exact_fu_1_t))\n",
    "    \n",
    "    E_bound_1_t = PINNs(torch.cat((torch.ones_like(bound_t),bound_t),axis=1))\n",
    "    Exact_1_t = -torch.ones_like(E_bound_1_t)\n",
    "    loss_bound_for_c = torch.mean(torch.square(E_bound_1_t-Exact_1_t))\n",
    "    \n",
    "    loss_bound_value = loss_bound_for_a+loss_bound_for_b+loss_bound_for_c\n",
    "    \n",
    "    return loss_bound_value"
   ]
  },
  {
   "cell_type": "markdown",
   "id": "ecfbd9d8",
   "metadata": {},
   "source": [
    "# PINN"
   ]
  },
  {
   "cell_type": "code",
   "execution_count": 41,
   "id": "7fd9e917",
   "metadata": {
    "ExecuteTime": {
     "end_time": "2024-12-21T07:47:40.873199Z",
     "start_time": "2024-12-21T07:47:40.869822Z"
    }
   },
   "outputs": [],
   "source": [
    "#Paper reproduction\n",
    "torch.manual_seed(1234)\n",
    "torch.cuda.manual_seed(1234)\n",
    "np.random.seed(1234)"
   ]
  },
  {
   "cell_type": "code",
   "execution_count": 42,
   "id": "bee7f972",
   "metadata": {
    "ExecuteTime": {
     "end_time": "2024-12-21T07:47:40.883061Z",
     "start_time": "2024-12-21T07:47:40.875846Z"
    }
   },
   "outputs": [],
   "source": [
    "class hidden_layers(nn.Module):\n",
    "    def __init__(self,input_number,output_number):\n",
    "        super(hidden_layers, self).__init__()\n",
    "        self.layer = nn.Linear(input_number,output_number)\n",
    "    def forward(self, x):\n",
    "        x = self.layer(x)\n",
    "        x = torch.tanh(x)\n",
    "        return x\n",
    "\n",
    "class NN_H2 (nn.Module):\n",
    "    def __init__(self,in_N, width, depth, out_N):\n",
    "\n",
    "        super(NN_H2, self).__init__()\n",
    "        self.in_N = in_N\n",
    "        self.width = width\n",
    "        self.depth = depth\n",
    "        self.out_N = out_N\n",
    "\n",
    "        self.stack = nn.ModuleList()\n",
    "\n",
    "        self.stack.append(hidden_layers(in_N, width))\n",
    "\n",
    "        for i in range(depth):\n",
    "            self.stack.append(hidden_layers(width, width))\n",
    "\n",
    "        self.stack.append(nn.Linear(width, out_N))\n",
    "        \n",
    "        \n",
    "    def forward(self, x):\n",
    "        for m in self.stack:\n",
    "            x = m(x)\n",
    "        return x"
   ]
  },
  {
   "cell_type": "code",
   "execution_count": 43,
   "id": "00251093",
   "metadata": {
    "ExecuteTime": {
     "end_time": "2024-12-21T07:47:40.897835Z",
     "start_time": "2024-12-21T07:47:40.885326Z"
    }
   },
   "outputs": [],
   "source": [
    "PINNs1 = NN_H2(2, 64, 4, 1)\n",
    "PINNs1.cuda()\n",
    "\n",
    "#PINNs1.apply(weights_init)\n",
    "import torch.nn.init as init\n",
    "for name, param in PINNs1.named_parameters():\n",
    "    if 'weight' in name:\n",
    "        init.xavier_uniform_(param)\n",
    "        \n",
    "optimizer1 = optim.Adam(PINNs1.parameters(), lr=0.001,betas=(0.9, 0.999), eps=1e-08, weight_decay=0, amsgrad=False)\n",
    "\n",
    "C1 = torch.tensor(0.1, requires_grad=True)\n",
    "optimizer1.add_param_group({'params': [C1], 'lr': 0.001})"
   ]
  },
  {
   "cell_type": "code",
   "execution_count": null,
   "id": "9a6d6497",
   "metadata": {},
   "outputs": [],
   "source": []
  },
  {
   "cell_type": "code",
   "execution_count": null,
   "id": "aa19ed05",
   "metadata": {
    "ExecuteTime": {
     "end_time": "2024-12-21T07:52:59.669254Z",
     "start_time": "2024-12-21T07:47:40.905499Z"
    },
    "scrolled": false
   },
   "outputs": [],
   "source": [
    "############## Record list ###############\n",
    "loss_all_1 = []\n",
    "loss_f_1 = []\n",
    "loss_f_for_collocation_1 = []\n",
    "loss_f_for_T_1 = []\n",
    "loss_f_excapt_T_1 = []\n",
    "loss_T_1 = []\n",
    "loss_T_clear_1 = []\n",
    "loss_T_1_test_data = []\n",
    "test_loss_1 = []\n",
    "C1_list = []\n",
    "############## Record list ###############\n",
    "\n",
    "\n",
    "nIter1 = 10000\n",
    "it = 0\n",
    "\n",
    "while it<nIter1:\n",
    "    #########loss f#########\n",
    "    loss_f = get_loss_f(x_inside,t_inside,PINNs1,C1,return_sequence='not')\n",
    "    \n",
    "    #########loss T observation#########        \n",
    "    E_observation = PINNs1(observe_data) \n",
    "    E_observation = output_transform(observe_data,E_observation)\n",
    "    loss_observation = torch.mean(torch.square(E_observation-observe_u))              \n",
    "\n",
    "    #########loss PI#########\n",
    "    loss = loss_f+loss_observation\n",
    "    \n",
    "    #########  test_loss NRMSE  #########\n",
    "    pre_u = PINNs1(test_data)\n",
    "    pre_u = output_transform(test_data, pre_u) \n",
    "    test_loss = relative_l2_torch(pre_u,test_u)\n",
    "    #########  test_loss NRMSE  #########\n",
    "    \n",
    "    ##############Record###############\n",
    "    test_loss_1.append(test_loss)\n",
    "    loss_f_1.append(loss_f.item())\n",
    "    C1_list.append(C1.item())   \n",
    "    loss_T_1.append(loss_observation.item()) \n",
    "    loss_all_1.append(loss.item())\n",
    "    ##############Record###############\n",
    "\n",
    "    if it % 1000 == 0:\n",
    "        print('It:', it, 'train_loss:', loss.item(), 'test_loss:', test_loss)\n",
    "        print(C1)\n",
    "        \n",
    "    optimizer1.zero_grad()\n",
    "    loss.backward()\n",
    "    optimizer1.step()\n",
    "    \n",
    "    it = it + 1   \n",
    "    \n",
    "print('Final:', 'train_loss:', loss.item(), 'test_loss:', test_loss)"
   ]
  },
  {
   "cell_type": "code",
   "execution_count": null,
   "id": "a68c6310",
   "metadata": {},
   "outputs": [],
   "source": []
  }
 ],
 "metadata": {
  "kernelspec": {
   "display_name": "Python (deepxde)",
   "language": "python",
   "name": "test2"
  },
  "language_info": {
   "codemirror_mode": {
    "name": "ipython",
    "version": 3
   },
   "file_extension": ".py",
   "mimetype": "text/x-python",
   "name": "python",
   "nbconvert_exporter": "python",
   "pygments_lexer": "ipython3",
   "version": "3.7.12"
  },
  "toc": {
   "base_numbering": 1,
   "nav_menu": {},
   "number_sections": true,
   "sideBar": true,
   "skip_h1_title": false,
   "title_cell": "Table of Contents",
   "title_sidebar": "Contents",
   "toc_cell": false,
   "toc_position": {
    "height": "calc(100% - 180px)",
    "left": "10px",
    "top": "150px",
    "width": "141.9px"
   },
   "toc_section_display": true,
   "toc_window_display": false
  },
  "varInspector": {
   "cols": {
    "lenName": 16,
    "lenType": 16,
    "lenVar": 40
   },
   "kernels_config": {
    "python": {
     "delete_cmd_postfix": "",
     "delete_cmd_prefix": "del ",
     "library": "var_list.py",
     "varRefreshCmd": "print(var_dic_list())"
    },
    "r": {
     "delete_cmd_postfix": ") ",
     "delete_cmd_prefix": "rm(",
     "library": "var_list.r",
     "varRefreshCmd": "cat(var_dic_list()) "
    }
   },
   "types_to_exclude": [
    "module",
    "function",
    "builtin_function_or_method",
    "instance",
    "_Feature"
   ],
   "window_display": false
  }
 },
 "nbformat": 4,
 "nbformat_minor": 5
}
