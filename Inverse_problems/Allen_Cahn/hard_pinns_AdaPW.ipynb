{
 "cells": [
  {
   "cell_type": "code",
   "execution_count": 1,
   "id": "edb77347",
   "metadata": {
    "ExecuteTime": {
     "end_time": "2024-12-21T07:53:23.515944Z",
     "start_time": "2024-12-21T07:53:22.360872Z"
    }
   },
   "outputs": [],
   "source": [
    "import numpy as np\n",
    "import torch\n",
    "from torch import nn, optim, autograd\n",
    "from torch.nn import functional as F\n",
    "import torch.nn.init as init\n",
    "from pyDOE import lhs\n",
    "import scipy.io\n",
    "import matplotlib.pyplot as plt\n",
    "import matplotlib as mpl\n",
    "import matplotlib.gridspec as gridspec\n",
    "%matplotlib inline\n",
    "from mpl_toolkits.axes_grid1 import make_axes_locatable\n",
    "\n",
    "from utils_training import *\n",
    "\n",
    "#Paper reproduction\n",
    "torch.manual_seed(1234)\n",
    "torch.cuda.manual_seed(1234)\n",
    "np.random.seed(1234)"
   ]
  },
  {
   "cell_type": "code",
   "execution_count": null,
   "id": "337a7923",
   "metadata": {
    "ExecuteTime": {
     "end_time": "2024-12-21T07:53:26.969788Z",
     "start_time": "2024-12-21T07:53:23.518235Z"
    }
   },
   "outputs": [],
   "source": [
    "N_train = 1000\n",
    "N_bound = 100\n",
    "\n",
    "# x,t\n",
    "la = np.array([1,1])\n",
    "lb = np.array([-1,0])\n",
    "\n",
    "traindata = lb+(la-lb)*lhs(2,N_train)\n",
    "x_inside = traindata[:,0:1]\n",
    "t_inside = traindata[:,1:2]\n",
    "\n",
    "x_inside = numpy_to_tensor(x_inside, var_name=\"x_inside\", value_range_dim = True, to_torch = True, to_cuda = True, requires_grad = True)\n",
    "t_inside = numpy_to_tensor(t_inside, var_name=\"t_inside\", value_range_dim = True, to_torch = True, to_cuda = True, requires_grad = True)\n",
    "\n",
    "x_bound = lb[0]+(la[0]-lb[0])*lhs(1,N_bound)\n",
    "t_bound = lb[1]+(la[1]-lb[1])*lhs(1,N_bound)\n",
    "\n",
    "x_bound = numpy_to_tensor(x_bound, var_name=\"x_bound\", value_range_dim = True, to_torch = True, to_cuda = True, requires_grad = False)\n",
    "t_bound = numpy_to_tensor(t_bound, var_name=\"t_bound\", value_range_dim = True, to_torch = True, to_cuda = True, requires_grad = False)"
   ]
  },
  {
   "cell_type": "code",
   "execution_count": null,
   "id": "ecf6b693",
   "metadata": {},
   "outputs": [],
   "source": []
  },
  {
   "cell_type": "code",
   "execution_count": null,
   "id": "5415d964",
   "metadata": {
    "ExecuteTime": {
     "end_time": "2024-12-21T07:53:26.980567Z",
     "start_time": "2024-12-21T07:53:26.973278Z"
    }
   },
   "outputs": [],
   "source": [
    "from scipy.io import loadmat\n",
    "\n",
    "data = loadmat(\"usol_D_0.001_k_5.mat\")\n",
    "\n",
    "t_exact = data[\"t\"].reshape(-1,1)\n",
    "\n",
    "x_exact = data[\"x\"].reshape(-1,1)\n",
    "\n",
    "Exact_u = data[\"u\"]\n",
    "\n",
    "print('t_exact:',t_exact.shape)\n",
    "print('x_exact:',x_exact.shape)\n",
    "print('Exact_u:',Exact_u.shape)"
   ]
  },
  {
   "cell_type": "code",
   "execution_count": null,
   "id": "16a91509",
   "metadata": {
    "ExecuteTime": {
     "end_time": "2024-12-21T07:53:26.987914Z",
     "start_time": "2024-12-21T07:53:26.982681Z"
    }
   },
   "outputs": [],
   "source": [
    "X_exact, T_exact = np.meshgrid(x_exact,t_exact)\n",
    "print('X_exact:',X_exact.shape)\n",
    "print('T_exact:',T_exact.shape)\n",
    "\n",
    "X_exact_flatten = X_exact.flatten()[:,None]\n",
    "T_exact_flatten = T_exact.flatten()[:,None]\n",
    "data_star = np.hstack((X_exact_flatten,T_exact_flatten))\n",
    "u_star = Exact_u.flatten()[:,None] "
   ]
  },
  {
   "cell_type": "code",
   "execution_count": null,
   "id": "7fbee49d",
   "metadata": {
    "ExecuteTime": {
     "end_time": "2024-12-21T07:53:26.995275Z",
     "start_time": "2024-12-21T07:53:26.989915Z"
    }
   },
   "outputs": [],
   "source": [
    "data_star.shape"
   ]
  },
  {
   "cell_type": "code",
   "execution_count": null,
   "id": "77b47ac3",
   "metadata": {
    "ExecuteTime": {
     "end_time": "2024-12-21T07:53:27.007374Z",
     "start_time": "2024-12-21T07:53:26.997445Z"
    }
   },
   "outputs": [],
   "source": [
    "X_star = numpy_to_tensor(data_star, var_name=\"X_star\", value_range_dim = True, to_torch = True, to_cuda = True, requires_grad = False)"
   ]
  },
  {
   "cell_type": "code",
   "execution_count": null,
   "id": "46dca36a",
   "metadata": {
    "ExecuteTime": {
     "end_time": "2024-12-21T07:53:27.013341Z",
     "start_time": "2024-12-21T07:53:27.009282Z"
    }
   },
   "outputs": [],
   "source": [
    "X_exact"
   ]
  },
  {
   "cell_type": "code",
   "execution_count": null,
   "id": "f5d1f9ec",
   "metadata": {
    "ExecuteTime": {
     "end_time": "2024-12-21T07:53:27.018667Z",
     "start_time": "2024-12-21T07:53:27.015005Z"
    }
   },
   "outputs": [],
   "source": [
    "T_exact"
   ]
  },
  {
   "cell_type": "code",
   "execution_count": null,
   "id": "295ea91d",
   "metadata": {
    "ExecuteTime": {
     "end_time": "2024-12-21T07:53:27.205912Z",
     "start_time": "2024-12-21T07:53:27.021838Z"
    }
   },
   "outputs": [],
   "source": [
    "plt.imshow(Exact_u,extent=[-1, 1, 0, 1],\n",
    "            origin='lower', cmap='rainbow')\n",
    "\n",
    "plt.colorbar(shrink=.5)\n",
    "\n",
    "plt.show()"
   ]
  },
  {
   "cell_type": "code",
   "execution_count": null,
   "id": "5f102401",
   "metadata": {},
   "outputs": [],
   "source": []
  },
  {
   "cell_type": "code",
   "execution_count": null,
   "id": "fc15dce0",
   "metadata": {
    "ExecuteTime": {
     "end_time": "2024-12-21T07:53:27.213945Z",
     "start_time": "2024-12-21T07:53:27.207741Z"
    }
   },
   "outputs": [],
   "source": [
    "number_observe_data = 100\n",
    "\n",
    "index_observe = (lhs(1,number_observe_data))*data_star.shape[0]\n",
    "index_observe = np.floor(index_observe).reshape(number_observe_data,).astype(int)\n",
    "observe_data = data_star[index_observe,:]\n",
    "observe_u = u_star[index_observe,:]\n",
    "\n",
    "observe_data = numpy_to_tensor(observe_data, var_name=\"observe_data\", value_range_dim = True, to_torch = True, to_cuda = True, requires_grad = True)\n",
    "observe_u = numpy_to_tensor(observe_u, var_name=\"observe_u\", value_range_dim = True, to_torch = True, to_cuda = True, requires_grad = True)\n",
    "print('J:',len(observe_u))\n",
    "\n",
    "observe_data_x_inside = observe_data[:,0:1]\n",
    "observe_data_t_inside = observe_data[:,1:2]"
   ]
  },
  {
   "cell_type": "code",
   "execution_count": null,
   "id": "41181abf",
   "metadata": {
    "ExecuteTime": {
     "end_time": "2024-12-21T07:53:27.224639Z",
     "start_time": "2024-12-21T07:53:27.215619Z"
    }
   },
   "outputs": [],
   "source": [
    "n_test_data = 10000\n",
    "\n",
    "index_observe = (lhs(1,n_test_data))*data_star.shape[0]\n",
    "index_observe = np.floor(index_observe).reshape(n_test_data,).astype(int)\n",
    "test_data = data_star[index_observe,:]\n",
    "test_u = u_star[index_observe,:]\n",
    "\n",
    "test_data = numpy_to_tensor(test_data, var_name=\"observe_data\", value_range_dim = True, to_torch = True, to_cuda = True, requires_grad = True)\n",
    "test_u = numpy_to_tensor(test_u, var_name=\"observe_u\", value_range_dim = True, to_torch = True, to_cuda = True, requires_grad = True)\n",
    "\n",
    "test_data_x_inside = observe_data[:,0:1]\n",
    "test_data_t_inside = observe_data[:,1:2]"
   ]
  },
  {
   "cell_type": "code",
   "execution_count": 12,
   "id": "d5a2b8a1",
   "metadata": {
    "ExecuteTime": {
     "end_time": "2024-12-21T07:53:27.228587Z",
     "start_time": "2024-12-21T07:53:27.226318Z"
    }
   },
   "outputs": [],
   "source": [
    "# C1 = torch.tensor(0.5, requires_grad=True)"
   ]
  },
  {
   "cell_type": "code",
   "execution_count": null,
   "id": "04e4b5f1",
   "metadata": {
    "ExecuteTime": {
     "end_time": "2024-12-21T07:53:27.233124Z",
     "start_time": "2024-12-21T07:53:27.230176Z"
    }
   },
   "outputs": [],
   "source": [
    "print('J:',len(observe_u))"
   ]
  },
  {
   "cell_type": "code",
   "execution_count": 14,
   "id": "c674bf38",
   "metadata": {
    "ExecuteTime": {
     "end_time": "2024-12-21T07:53:27.237989Z",
     "start_time": "2024-12-21T07:53:27.234774Z"
    }
   },
   "outputs": [],
   "source": [
    "def output_transform(data_input, u_input):\n",
    "    \n",
    "    x_in = data_input[:,0:1]\n",
    "    t_in = data_input[:,1:2]\n",
    "    \n",
    "    return x_in**2 * torch.cos(torch.tensor(np.pi) * x_in) + t_in * (1 - x_in**2) * u_input"
   ]
  },
  {
   "cell_type": "markdown",
   "id": "c1c8c11a",
   "metadata": {},
   "source": [
    "## Loss_f"
   ]
  },
  {
   "cell_type": "code",
   "execution_count": 15,
   "id": "f8dbd5ab",
   "metadata": {
    "ExecuteTime": {
     "end_time": "2024-12-21T07:53:27.245534Z",
     "start_time": "2024-12-21T07:53:27.240087Z"
    }
   },
   "outputs": [],
   "source": [
    "def get_loss_f(x_grad, y_grad, PINNs, C, return_sequence='not'):\n",
    "\n",
    "    E_inside = PINNs(torch.cat((x_grad,y_grad),axis=1))\n",
    "    E_inside = output_transform(torch.cat((x_grad,y_grad),axis=1),E_inside)\n",
    "\n",
    "    E_x = compute_higher_order_derivatives(E_inside, [x_grad])\n",
    "    E_xx = compute_higher_order_derivatives(E_x, [x_grad])\n",
    "    E_xxx = compute_higher_order_derivatives(E_xx, [x_grad])\n",
    "    E_xxt = compute_higher_order_derivatives(E_xx, [y_grad])\n",
    "    E_t = compute_higher_order_derivatives(E_inside, [y_grad])\n",
    "    E_tx = compute_higher_order_derivatives(E_t, [x_grad])\n",
    "    E_tt = compute_higher_order_derivatives(E_t, [y_grad])\n",
    "\n",
    "    loss_term = E_t - C * E_xx - 5 * (E_inside - E_inside**3)\n",
    "\n",
    "    if return_sequence == 'yes':\n",
    "        return torch.square(loss_term)\n",
    "    else:\n",
    "        return torch.mean(torch.square(loss_term))"
   ]
  },
  {
   "cell_type": "markdown",
   "id": "9a8378a2",
   "metadata": {},
   "source": [
    "## loss_bound"
   ]
  },
  {
   "cell_type": "code",
   "execution_count": 16,
   "id": "ab439bd2",
   "metadata": {
    "ExecuteTime": {
     "end_time": "2024-12-21T07:53:27.252825Z",
     "start_time": "2024-12-21T07:53:27.247366Z"
    }
   },
   "outputs": [],
   "source": [
    "def get_loss_bound(bound_x, bound_t, PINNs, C, return_sequence='not'):\n",
    "\n",
    "    E_bound_x_zero = PINNs(torch.cat((bound_x,torch.zeros_like(bound_x)),axis=1)) \n",
    "    Exact_x_zero = bound_x**2*torch.cos(torch.tensor(np.pi)*bound_x)\n",
    "    loss_bound_for_a = torch.mean(torch.square(E_bound_x_zero-Exact_x_zero))\n",
    "    \n",
    "    E_bound_fu_1_t = PINNs(torch.cat((-torch.ones_like(bound_t),bound_t),axis=1)) \n",
    "    Exact_fu_1_t = -torch.ones_like(E_bound_fu_1_t)\n",
    "    loss_bound_for_b = torch.mean(torch.square(E_bound_fu_1_t-Exact_fu_1_t))\n",
    "    \n",
    "    E_bound_1_t = PINNs(torch.cat((torch.ones_like(bound_t),bound_t),axis=1))\n",
    "    Exact_1_t = -torch.ones_like(E_bound_1_t)\n",
    "    loss_bound_for_c = torch.mean(torch.square(E_bound_1_t-Exact_1_t))\n",
    "    \n",
    "    loss_bound_value = loss_bound_for_a+loss_bound_for_b+loss_bound_for_c\n",
    "    \n",
    "    return loss_bound_value"
   ]
  },
  {
   "cell_type": "markdown",
   "id": "ecfbd9d8",
   "metadata": {},
   "source": [
    "# PINN"
   ]
  },
  {
   "cell_type": "code",
   "execution_count": 17,
   "id": "7fd9e917",
   "metadata": {
    "ExecuteTime": {
     "end_time": "2024-12-21T07:53:27.257108Z",
     "start_time": "2024-12-21T07:53:27.254461Z"
    }
   },
   "outputs": [],
   "source": [
    "#Paper reproduction\n",
    "torch.manual_seed(1234)\n",
    "torch.cuda.manual_seed(1234)\n",
    "np.random.seed(1234)"
   ]
  },
  {
   "cell_type": "code",
   "execution_count": 18,
   "id": "3721e879",
   "metadata": {
    "ExecuteTime": {
     "end_time": "2024-12-21T07:53:27.264437Z",
     "start_time": "2024-12-21T07:53:27.258732Z"
    }
   },
   "outputs": [],
   "source": [
    "class hidden_layers(nn.Module):\n",
    "    def __init__(self,input_number,output_number):\n",
    "        super(hidden_layers, self).__init__()\n",
    "        self.layer = nn.Linear(input_number,output_number)\n",
    "    def forward(self, x):\n",
    "        x = self.layer(x)\n",
    "        x = torch.tanh(x)\n",
    "        return x\n",
    "\n",
    "class NN_H2 (nn.Module):\n",
    "    def __init__(self,in_N, width, depth, out_N):\n",
    "\n",
    "        super(NN_H2, self).__init__()\n",
    "        self.in_N = in_N\n",
    "        self.width = width\n",
    "        self.depth = depth\n",
    "        self.out_N = out_N\n",
    "\n",
    "        self.stack = nn.ModuleList()\n",
    "\n",
    "        self.stack.append(hidden_layers(in_N, width))\n",
    "\n",
    "        for i in range(depth):\n",
    "            self.stack.append(hidden_layers(width, width))\n",
    "\n",
    "        self.stack.append(nn.Linear(width, out_N))\n",
    "        \n",
    "        \n",
    "    def forward(self, x):\n",
    "        for m in self.stack:\n",
    "            x = m(x)\n",
    "        return x"
   ]
  },
  {
   "cell_type": "code",
   "execution_count": 19,
   "id": "7f15beb6",
   "metadata": {
    "ExecuteTime": {
     "end_time": "2024-12-21T07:53:27.273096Z",
     "start_time": "2024-12-21T07:53:27.266151Z"
    }
   },
   "outputs": [],
   "source": [
    "PINNs1 = NN_H2(2, 64, 4, 1)\n",
    "PINNs1.cuda()\n",
    "\n",
    "import torch.nn.init as init\n",
    "for name, param in PINNs1.named_parameters():\n",
    "    if 'weight' in name:\n",
    "        init.xavier_uniform_(param)\n",
    "        \n",
    "optimizer1 = optim.Adam(PINNs1.parameters(), lr=0.001,betas=(0.9, 0.999), eps=1e-08, weight_decay=0, amsgrad=False)\n",
    "\n",
    "C1 = torch.tensor(0.1, requires_grad=True)\n",
    "optimizer1.add_param_group({'params': [C1], 'lr': 0.001})"
   ]
  },
  {
   "cell_type": "code",
   "execution_count": null,
   "id": "f3b34ed9",
   "metadata": {
    "ExecuteTime": {
     "end_time": "2024-12-21T07:53:27.282694Z",
     "start_time": "2024-12-21T07:53:27.279568Z"
    }
   },
   "outputs": [],
   "source": [
    "if torch.cuda.is_available():\n",
    "    device = \"cuda\"\n",
    "    print(\"Using CUDA on GPU\")\n",
    "else:\n",
    "    device = \"cpu\"\n",
    "    print(\"Using CPU\")"
   ]
  },
  {
   "cell_type": "code",
   "execution_count": 22,
   "id": "e7a7c9b4",
   "metadata": {
    "ExecuteTime": {
     "end_time": "2024-12-21T07:53:27.288911Z",
     "start_time": "2024-12-21T07:53:27.284476Z"
    }
   },
   "outputs": [],
   "source": [
    "##############PW_L_f###############\n",
    "# e_k = 0.001\n",
    "# q_k = 0.0005\n",
    "# s_k = 0.5\n",
    "\n",
    "e_k = 0.0005\n",
    "q_k = 0.0005\n",
    "s_k = 0.7\n",
    "\n",
    "Ada_CL_L_f = Ada_CL(e_k,q_k,s_k,device)\n",
    "weight_sequence_L_f = (1/N_train)*np.ones((N_train,1))\n",
    "##############PW_L_f############### \n",
    "\n",
    "############## plot L_f list ###############  \n",
    "loss_all_1 = []\n",
    "loss_all_2 = []\n",
    "loss_T_1 = []\n",
    "test_loss_1 = []\n",
    "C1_list = []\n",
    "beta_number_list = []\n",
    "rho_k_list = []\n",
    "############## plot L_f list ###############  \n",
    "\n",
    "############## Record list ###############\n",
    "loss_f_sequence_list = []\n",
    "weight_sequence_L_f_list = []\n",
    "plot_heat_list = []\n",
    "############## Record list ###############"
   ]
  },
  {
   "cell_type": "code",
   "execution_count": null,
   "id": "aa19ed05",
   "metadata": {
    "ExecuteTime": {
     "end_time": "2024-12-21T08:01:47.259792Z",
     "start_time": "2024-12-21T07:53:27.290868Z"
    },
    "scrolled": false
   },
   "outputs": [],
   "source": [
    "nIter1 = 10000\n",
    "it = 0\n",
    "\n",
    "while it<10000:\n",
    "\n",
    "    ##############PW_L_f###############\n",
    "    loss_f_sequence = get_loss_f(x_inside,t_inside,PINNs1,C1,return_sequence='yes')\n",
    "    loss_f,weight_sequence_L_f,rho_k,beta_sequence  = Ada_CL_L_f.Training_Scheduler_torch(loss_f_sequence, weight_sequence_L_f,alpha_k_function = 'default',record = 'yes')\n",
    "    beta_number_list.append(np.sum(beta_sequence)/N_train)\n",
    "    rho_k_list.append(rho_k)\n",
    "    ##############PW_L_f###############    \n",
    "    \n",
    "    ##### loss observation  ######        \n",
    "    E_observation = PINNs1(observe_data)\n",
    "    E_observation = output_transform(observe_data, E_observation)                                                 \n",
    "    loss_observation = torch.mean(torch.square(E_observation-observe_u))      \n",
    "\n",
    "    #####loss PI#######\n",
    "    loss = loss_f+loss_observation\n",
    "    \n",
    "    #########  test_loss NRMSE  #########\n",
    "    pre_u = PINNs1(test_data)\n",
    "    pre_u = output_transform(test_data, pre_u) \n",
    "    test_loss = relative_l2_torch(pre_u,test_u)\n",
    "    #########  test_loss NRMSE  #########\n",
    "    \n",
    "    ##############Record###############\n",
    "    test_loss_1.append(test_loss)\n",
    "    C1_list.append(C1.item())   \n",
    "    loss_T_1.append(loss_observation.item()) \n",
    "    loss_all_1.append(loss.item())\n",
    "    ##############Record###############\n",
    "    \n",
    "    ############## Record Original ###############\n",
    "    loss_f_original = get_loss_f(x_inside,t_inside,PINNs1,C1,return_sequence='not')\n",
    "    loss_original = loss_f_original+loss_observation \n",
    "    loss_all_2.append(loss_original.item())\n",
    "    ############## Record Original ###############\n",
    "   \n",
    "    if it % 1000 == 0:\n",
    "        loss_f_sequence_list.append(loss_f_sequence.cpu().detach().numpy())\n",
    "        weight_sequence_L_f_list.append(weight_sequence_L_f)\n",
    "        pre_u_for_plot = PINNs1(X_star)\n",
    "        pre_u_for_plot = output_transform(X_star, pre_u_for_plot)     \n",
    "        plot_heat_list.append(pre_u_for_plot.cpu().detach().numpy())\n",
    "        print('It:', it, 'train_loss:', loss.item(), 'test_loss:', test_loss)\n",
    "        print(C1)\n",
    "        \n",
    "        \n",
    "    optimizer1.zero_grad()\n",
    "    loss.backward()\n",
    "    optimizer1.step()\n",
    "    \n",
    "\n",
    "    it = it + 1   \n",
    "    \n",
    "print('Final:', 'train_loss:', loss.item(), 'test_loss:', test_loss)"
   ]
  },
  {
   "cell_type": "code",
   "execution_count": null,
   "id": "d0365722",
   "metadata": {},
   "outputs": [],
   "source": []
  }
 ],
 "metadata": {
  "kernelspec": {
   "display_name": "Python (deepxde)",
   "language": "python",
   "name": "test2"
  },
  "language_info": {
   "codemirror_mode": {
    "name": "ipython",
    "version": 3
   },
   "file_extension": ".py",
   "mimetype": "text/x-python",
   "name": "python",
   "nbconvert_exporter": "python",
   "pygments_lexer": "ipython3",
   "version": "3.7.12"
  },
  "toc": {
   "base_numbering": 1,
   "nav_menu": {},
   "number_sections": true,
   "sideBar": true,
   "skip_h1_title": false,
   "title_cell": "Table of Contents",
   "title_sidebar": "Contents",
   "toc_cell": false,
   "toc_position": {
    "height": "calc(100% - 180px)",
    "left": "10px",
    "top": "150px",
    "width": "165px"
   },
   "toc_section_display": true,
   "toc_window_display": true
  },
  "varInspector": {
   "cols": {
    "lenName": 16,
    "lenType": 16,
    "lenVar": 40
   },
   "kernels_config": {
    "python": {
     "delete_cmd_postfix": "",
     "delete_cmd_prefix": "del ",
     "library": "var_list.py",
     "varRefreshCmd": "print(var_dic_list())"
    },
    "r": {
     "delete_cmd_postfix": ") ",
     "delete_cmd_prefix": "rm(",
     "library": "var_list.r",
     "varRefreshCmd": "cat(var_dic_list()) "
    }
   },
   "types_to_exclude": [
    "module",
    "function",
    "builtin_function_or_method",
    "instance",
    "_Feature"
   ],
   "window_display": false
  }
 },
 "nbformat": 4,
 "nbformat_minor": 5
}
