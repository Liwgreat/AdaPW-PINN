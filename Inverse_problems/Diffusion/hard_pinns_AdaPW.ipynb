{
 "cells": [
  {
   "cell_type": "code",
   "execution_count": 1,
   "id": "1f55b2c6",
   "metadata": {
    "ExecuteTime": {
     "end_time": "2024-05-23T03:22:40.252021Z",
     "start_time": "2024-05-23T03:22:39.119651Z"
    }
   },
   "outputs": [],
   "source": [
    "import numpy as np\n",
    "import torch\n",
    "from torch import nn, optim, autograd\n",
    "from torch.nn import functional as F\n",
    "from pyDOE import lhs\n",
    "import scipy.io\n",
    "import matplotlib.pyplot as plt\n",
    "import matplotlib as mpl\n",
    "import matplotlib.gridspec as gridspec\n",
    "%matplotlib inline\n",
    "from mpl_toolkits.axes_grid1 import make_axes_locatable\n",
    "\n",
    "from models_all import *\n",
    "\n",
    "#Paper reproduction\n",
    "torch.manual_seed(1234)\n",
    "torch.cuda.manual_seed(1234)\n",
    "np.random.seed(1234)"
   ]
  },
  {
   "cell_type": "code",
   "execution_count": 2,
   "id": "4d5b60ea",
   "metadata": {
    "ExecuteTime": {
     "end_time": "2024-05-23T03:22:43.874743Z",
     "start_time": "2024-05-23T03:22:40.255056Z"
    },
    "cell_style": "center"
   },
   "outputs": [],
   "source": [
    "N_train = 10000\n",
    "\n",
    "\n",
    "# x,t\n",
    "la = np.array([1,1])\n",
    "lb = np.array([-1,0])\n",
    "\n",
    "traindata = lb+(la-lb)*lhs(2,N_train)\n",
    "\n",
    "\n",
    "x = traindata[:,0:1]\n",
    "t = traindata[:,1:2]\n",
    "\n",
    "x = torch.from_numpy(x).float()\n",
    "t = torch.from_numpy(t).float()\n",
    "\n",
    "x.requires_grad_()\n",
    "t.requires_grad_()\n",
    "\n",
    "###########GPU###########\n",
    "x = x.cuda()\n",
    "t = t.cuda()\n",
    "###########GPU###########"
   ]
  },
  {
   "cell_type": "code",
   "execution_count": 3,
   "id": "fde93128",
   "metadata": {
    "ExecuteTime": {
     "end_time": "2024-05-23T03:22:43.885535Z",
     "start_time": "2024-05-23T03:22:43.880340Z"
    },
    "cell_style": "center"
   },
   "outputs": [],
   "source": [
    "def func(x):\n",
    "    return np.sin(np.pi * x[:, 0:1]) * np.exp(-x[:, 1:])"
   ]
  },
  {
   "cell_type": "code",
   "execution_count": 4,
   "id": "ad2d3a85",
   "metadata": {
    "ExecuteTime": {
     "end_time": "2024-05-23T03:22:43.894793Z",
     "start_time": "2024-05-23T03:22:43.887692Z"
    },
    "cell_style": "center"
   },
   "outputs": [],
   "source": [
    "observe_number = 200\n",
    "\n",
    "observe_data = lb+(la-lb)*lhs(2,observe_number)\n",
    "observe_y = func(observe_data)\n",
    "observe_data = torch.from_numpy(observe_data).float()\n",
    "observe_y = torch.from_numpy(observe_y).float()\n",
    "\n",
    "###########GPU###########\n",
    "observe_y = observe_y.cuda()\n",
    "observe_data = observe_data.cuda()\n",
    "###########GPU###########"
   ]
  },
  {
   "cell_type": "code",
   "execution_count": 5,
   "id": "79adbe53",
   "metadata": {
    "ExecuteTime": {
     "end_time": "2024-05-23T03:22:43.903938Z",
     "start_time": "2024-05-23T03:22:43.897229Z"
    }
   },
   "outputs": [],
   "source": [
    "N_test = 2000\n",
    "test_data = lb+(la-lb)*lhs(2,N_test)\n",
    "test_y = func(test_data)\n",
    "test_data = torch.from_numpy(test_data).float()\n",
    "test_y = torch.from_numpy(test_y).float()\n",
    "###########GPU###########\n",
    "test_data = test_data.cuda()\n",
    "test_y = test_y.cuda()\n",
    "###########GPU###########"
   ]
  },
  {
   "cell_type": "code",
   "execution_count": 6,
   "id": "bbd4c6fd",
   "metadata": {
    "ExecuteTime": {
     "end_time": "2024-05-23T03:22:43.909951Z",
     "start_time": "2024-05-23T03:22:43.906184Z"
    }
   },
   "outputs": [],
   "source": [
    "def relative_l2(u_pred, u_real):\n",
    "\n",
    "    l2 = torch.norm(u_real - u_pred, p=2) / torch.norm(u_real, p=2)\n",
    "    \n",
    "    return l2.item()  # Convert the result back to a Python float"
   ]
  },
  {
   "cell_type": "code",
   "execution_count": 7,
   "id": "4a1d2490",
   "metadata": {
    "ExecuteTime": {
     "end_time": "2024-05-23T03:22:43.916197Z",
     "start_time": "2024-05-23T03:22:43.912235Z"
    }
   },
   "outputs": [],
   "source": [
    "C1 = torch.tensor(2.0, requires_grad=True)"
   ]
  },
  {
   "cell_type": "code",
   "execution_count": null,
   "id": "18da4109",
   "metadata": {},
   "outputs": [],
   "source": []
  },
  {
   "cell_type": "code",
   "execution_count": 8,
   "id": "fc26021f",
   "metadata": {
    "ExecuteTime": {
     "end_time": "2024-05-23T03:22:43.922724Z",
     "start_time": "2024-05-23T03:22:43.919206Z"
    }
   },
   "outputs": [],
   "source": [
    "def output_transform(x, y):\n",
    "    x_in = x[:, 0:1]\n",
    "    t_in = x[:, 1:2]\n",
    "\n",
    "    return (1 - x_in) * (1 + x_in) * (1 - torch.exp(-t_in)) * y + torch.sin(np.pi * x_in)"
   ]
  },
  {
   "cell_type": "code",
   "execution_count": null,
   "id": "cd39f661",
   "metadata": {},
   "outputs": [],
   "source": []
  },
  {
   "cell_type": "code",
   "execution_count": 9,
   "id": "2c49ff15",
   "metadata": {
    "ExecuteTime": {
     "end_time": "2024-05-23T03:22:43.935496Z",
     "start_time": "2024-05-23T03:22:43.927246Z"
    }
   },
   "outputs": [],
   "source": [
    "def Loss_f(x_inside,y_inside,PINNs,C,return_sequence='not'):\n",
    "    \n",
    "    ########### loss f  ###########\n",
    "    E_inside = PINNs(torch.cat((x_inside,y_inside),axis=1))\n",
    "    E_inside = output_transform(torch.cat((x_inside,y_inside),axis=1), E_inside)\n",
    "    \n",
    "    d_t = autograd.grad(outputs=E_inside, inputs=y_inside,\n",
    "                              grad_outputs=torch.ones_like(E_inside),\n",
    "                              create_graph=True, retain_graph=True, only_inputs=True)[0]  \n",
    "\n",
    "    d_x = autograd.grad(outputs=E_inside, inputs=x_inside,\n",
    "                              grad_outputs=torch.ones_like(E_inside),\n",
    "                              create_graph=True, retain_graph=True, only_inputs=True)[0]  \n",
    "\n",
    "    d_xx = autograd.grad(outputs=d_x, inputs=x_inside,\n",
    "                              grad_outputs=torch.ones_like(d_x),\n",
    "                              create_graph=True, retain_graph=True, only_inputs=True)[0]  \n",
    "\n",
    "\n",
    "    loss_f_sequence = d_t-C*d_xx+torch.exp(-y_inside)*(torch.sin(torch.tensor(np.pi)*x_inside)-torch.tensor(np.pi)*torch.tensor(np.pi)*torch.sin(torch.tensor(np.pi)*x_inside))\n",
    "    loss_f_sequence = torch.square(loss_f_sequence)\n",
    "    loss_f = torch.mean(loss_f_sequence)\n",
    "\n",
    "    \n",
    "    \n",
    "    #loss_f = torch.mean(torch.square(E_t-C1*(E_xx)-5*(E_inside-E_inside**3)))\n",
    "    ########### loss f  ###########\n",
    "    \n",
    "    if return_sequence=='yes':\n",
    "        return loss_f_sequence\n",
    "    else:\n",
    "        return loss_f"
   ]
  },
  {
   "cell_type": "code",
   "execution_count": null,
   "id": "59efb36f",
   "metadata": {},
   "outputs": [],
   "source": []
  },
  {
   "cell_type": "code",
   "execution_count": null,
   "id": "78c529f3",
   "metadata": {
    "ExecuteTime": {
     "end_time": "2024-05-23T03:22:43.942614Z",
     "start_time": "2024-05-23T03:22:43.937945Z"
    }
   },
   "outputs": [],
   "source": [
    "if torch.cuda.is_available():\n",
    "    device = \"cuda\"\n",
    "    print(\"Using CUDA on GPU\")\n",
    "else:\n",
    "    device = \"cpu\"\n",
    "    print(\"Using CPU\")"
   ]
  },
  {
   "cell_type": "code",
   "execution_count": null,
   "id": "54c72cb8",
   "metadata": {
    "ExecuteTime": {
     "end_time": "2024-05-23T03:22:44.148307Z",
     "start_time": "2024-05-23T03:22:43.944539Z"
    }
   },
   "outputs": [],
   "source": [
    "traindata = np.concatenate((np.linspace(-1,1,200).reshape(-1,1),np.linspace(0,1,200).reshape(-1,1)),1)\n",
    "x_ = traindata[:,0:1]\n",
    "y_ = traindata[:,1:2]\n",
    "xx,yy = np.meshgrid(x_,y_)\n",
    "data_numpy = np.concatenate((xx.reshape(-1,1),yy.reshape(-1,1)),1)\n",
    "plot_data_tensor = torch.from_numpy(data_numpy).float()\n",
    "plot_data_tensor = plot_data_tensor.cuda()\n",
    "\n",
    "aa = func(data_numpy)\n",
    "plt.imshow(aa.reshape(200,200),extent=[-1, 1, 0, 1], cmap='rainbow')\n",
    "plt.colorbar(shrink=.5)\n",
    "#plt.scatter(gan_data_x_t[:,0:1], gan_data_x_t[:,1:2],c='k',marker = 'x',alpha=1,s=15)\n",
    "#plt.savefig('Possion h points.eps',format='eps',dpi=1000, bbox_inches = 'tight')\n",
    "\n",
    "plt.show()"
   ]
  },
  {
   "cell_type": "markdown",
   "id": "0b01aa90",
   "metadata": {},
   "source": [
    "## PINN"
   ]
  },
  {
   "cell_type": "code",
   "execution_count": null,
   "id": "a5dd5d6b",
   "metadata": {},
   "outputs": [],
   "source": []
  },
  {
   "cell_type": "code",
   "execution_count": null,
   "id": "07bbcf2c",
   "metadata": {},
   "outputs": [],
   "source": []
  },
  {
   "cell_type": "code",
   "execution_count": null,
   "id": "07a18e70",
   "metadata": {
    "ExecuteTime": {
     "end_time": "2024-05-23T03:25:35.144131Z",
     "start_time": "2024-05-23T03:22:44.151144Z"
    }
   },
   "outputs": [],
   "source": [
    "torch.manual_seed(1234)\n",
    "torch.cuda.manual_seed(1234)\n",
    "np.random.seed(1234)\n",
    "\n",
    "\n",
    "# ##############PW_L_f###############\n",
    "# e_k = 0.01\n",
    "# q_k = 0.0001\n",
    "# s_k = 0.5\n",
    "# Ada_CL_L_f = Ada_CL(e_k,q_k,s_k,device)\n",
    "# weight_sequence_L_f = (1/N_train)*np.ones((N_train,1))\n",
    "# ##############PW_L_f###############    \n",
    "\n",
    "##############PW_L_f###############\n",
    "e_k = 0.005\n",
    "q_k = 0.005\n",
    "s_k = 0.3\n",
    "\n",
    "\n",
    "Ada_CL_L_T = Ada_CL(e_k,q_k,s_k,device)\n",
    "weight_sequence_L_T = (1/observe_number)*np.ones((observe_number,1))\n",
    "##############PW_L_f###############    \n",
    "\n",
    "\n",
    "PINNs1 = NN_H2(2, 32, 6, 1)\n",
    "PINNs1.cuda()\n",
    "\n",
    "# PINNs1.apply(weights_init)\n",
    "\n",
    "import torch.nn.init as init\n",
    "for name, param in PINNs1.named_parameters():\n",
    "    if 'weight' in name:\n",
    "        init.xavier_uniform_(param)\n",
    "\n",
    "\n",
    "optimizer1 = optim.Adam(PINNs1.parameters(), lr=0.001,betas=(0.9, 0.999), eps=1e-08, weight_decay=0, amsgrad=False)\n",
    "\n",
    "optimizer1.add_param_group({'params': [C1], 'lr': 0.001})\n",
    "\n",
    "nIter1 = 10000\n",
    "\n",
    "\n",
    "loss_all_1 = []\n",
    "loss_f_1 = []\n",
    "loss_all_2 = []\n",
    "loss_T_1 = []\n",
    "test_loss_1 = []\n",
    "C1_list = []\n",
    "\n",
    "loss_f_sequence_list = []\n",
    "weight_sequence_L_f_list = []\n",
    "plot_heat_list = []\n",
    "\n",
    "loss1_value = 1\n",
    "it = 0\n",
    "\n",
    "\n",
    "while  it<6000:\n",
    "\n",
    "    \n",
    "    ##### loss f  ######    \n",
    "#     loss_f_sequence = Loss_f(x,t,PINNs1,C1,return_sequence='yes')\n",
    "#     ##############PW_L_f###############\n",
    "#     loss_f,weight_sequence_L_f = Ada_CL_L_f.Training_Scheduler_torch(loss_f_sequence, weight_sequence_L_f)\n",
    "    loss_f = Loss_f(x,t,PINNs1,C1,return_sequence='not')  \n",
    "    ##############PW_L_f###############    \n",
    "\n",
    "    \n",
    "    ###### loss observation  ######        \n",
    "    E_observation = PINNs1(observe_data)\n",
    "    E_observation = output_transform(observe_data, E_observation)   \n",
    "    loss_observation,weight_sequence_L_T = Ada_CL_L_T.Training_Scheduler_torch(torch.square(E_observation-observe_y), weight_sequence_L_T)\n",
    "  \n",
    "    ####### loss PI #######\n",
    "    loss = loss_f+10*loss_observation\n",
    "    \n",
    "    \n",
    "    #########  test_loss NRMSE  #########\n",
    "    pre_y = PINNs1(test_data)\n",
    "    pre_y = output_transform(test_data, pre_y)     \n",
    "    test_loss = relative_l2(pre_y,test_y)\n",
    "    #########  test_loss NRMSE  #########   \n",
    "    \n",
    "    ############## Record ###############\n",
    "    loss_f_1.append(loss_f.item())\n",
    "    test_loss_1.append(test_loss)\n",
    "    C1_list.append(C1.item())   \n",
    "    loss_T_1.append(loss_observation.item()) \n",
    "    loss_all_1.append(loss.item())\n",
    "    ############## Record ###############\n",
    "  \n",
    "    ############## Record Original ###############\n",
    "    loss_observation_original = Loss_f(x,t,PINNs1,C1,return_sequence='not') \n",
    "    loss_original = loss_f+10*loss_observation_original \n",
    "    loss_all_2.append(loss_original.item())\n",
    "    ############## Record Original ###############\n",
    "    \n",
    "\n",
    "    if it % 1000 == 0:\n",
    "        loss_f_sequence_list.append(loss_observation.cpu().detach().numpy())\n",
    "        weight_sequence_L_f_list.append(weight_sequence_L_T)\n",
    "        pre_u_for_plot = PINNs1(plot_data_tensor)\n",
    "        pre_u_for_plot = output_transform(plot_data_tensor, pre_u_for_plot)     \n",
    "        plot_heat_list.append(pre_u_for_plot.cpu().detach().numpy())\n",
    "        print('It:', it, 'train_loss:', loss.item(), 'test_loss:', test_loss) \n",
    "    \n",
    "    optimizer1.zero_grad()\n",
    "    loss.backward()\n",
    "    optimizer1.step()\n",
    "    \n",
    "        \n",
    "    it = it + 1     \n",
    "    \n",
    "print('Final:', 'train_loss:', loss.item(), 'test_loss:', test_loss) "
   ]
  },
  {
   "cell_type": "code",
   "execution_count": null,
   "id": "ed0d42cb",
   "metadata": {},
   "outputs": [],
   "source": []
  },
  {
   "cell_type": "code",
   "execution_count": null,
   "id": "d383cd35",
   "metadata": {},
   "outputs": [],
   "source": []
  }
 ],
 "metadata": {
  "kernelspec": {
   "display_name": "Python (deepxde)",
   "language": "python",
   "name": "test2"
  },
  "language_info": {
   "codemirror_mode": {
    "name": "ipython",
    "version": 3
   },
   "file_extension": ".py",
   "mimetype": "text/x-python",
   "name": "python",
   "nbconvert_exporter": "python",
   "pygments_lexer": "ipython3",
   "version": "3.7.12"
  },
  "toc": {
   "base_numbering": 1,
   "nav_menu": {},
   "number_sections": true,
   "sideBar": true,
   "skip_h1_title": false,
   "title_cell": "Table of Contents",
   "title_sidebar": "Contents",
   "toc_cell": false,
   "toc_position": {},
   "toc_section_display": true,
   "toc_window_display": false
  },
  "varInspector": {
   "cols": {
    "lenName": 16,
    "lenType": 16,
    "lenVar": 40
   },
   "kernels_config": {
    "python": {
     "delete_cmd_postfix": "",
     "delete_cmd_prefix": "del ",
     "library": "var_list.py",
     "varRefreshCmd": "print(var_dic_list())"
    },
    "r": {
     "delete_cmd_postfix": ") ",
     "delete_cmd_prefix": "rm(",
     "library": "var_list.r",
     "varRefreshCmd": "cat(var_dic_list()) "
    }
   },
   "types_to_exclude": [
    "module",
    "function",
    "builtin_function_or_method",
    "instance",
    "_Feature"
   ],
   "window_display": false
  }
 },
 "nbformat": 4,
 "nbformat_minor": 5
}
