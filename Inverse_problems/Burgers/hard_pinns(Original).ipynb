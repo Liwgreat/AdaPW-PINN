{
 "cells": [
  {
   "cell_type": "code",
   "execution_count": 1,
   "id": "353a13ed",
   "metadata": {
    "ExecuteTime": {
     "end_time": "2024-05-22T09:39:17.357822Z",
     "start_time": "2024-05-22T09:39:16.229964Z"
    }
   },
   "outputs": [],
   "source": [
    "import numpy as np\n",
    "import torch\n",
    "from torch import nn, optim, autograd\n",
    "from torch.nn import functional as F\n",
    "from pyDOE import lhs\n",
    "import scipy.io\n",
    "import matplotlib.pyplot as plt\n",
    "import matplotlib as mpl\n",
    "import matplotlib.gridspec as gridspec\n",
    "%matplotlib inline\n",
    "from mpl_toolkits.axes_grid1 import make_axes_locatable\n",
    "\n",
    "from models_all import *\n",
    "\n",
    "#Paper reproduction\n",
    "torch.manual_seed(1234)\n",
    "torch.cuda.manual_seed(1234)\n",
    "np.random.seed(1234)"
   ]
  },
  {
   "cell_type": "code",
   "execution_count": 2,
   "id": "025fd7d7",
   "metadata": {
    "ExecuteTime": {
     "end_time": "2024-05-22T09:39:20.767722Z",
     "start_time": "2024-05-22T09:39:17.360536Z"
    }
   },
   "outputs": [],
   "source": [
    "N_train = 10000\n",
    "N_bound = 200\n",
    "\n",
    "la = np.array([1,1])\n",
    "lb = np.array([-1,0])\n",
    "\n",
    "traindata = lb+(la-lb)*lhs(2,N_train)\n",
    "\n",
    "bound_x = -1+(1-(-1))*lhs(1,N_bound)\n",
    "\n",
    "bound_t = 0+(1-(0))*lhs(1,N_bound)\n",
    "\n",
    "# #x,t  #u,v\n",
    "X_train = torch.from_numpy(traindata).float()\n",
    "# x_bound = torch.from_numpy(bound_x).float()\n",
    "# t_bound = torch.from_numpy(bound_t).float()\n",
    "x = X_train[:,0:1]\n",
    "t = X_train[:,1:2]\n",
    "\n",
    "x.requires_grad_()\n",
    "t.requires_grad_()\n",
    "\n",
    "###########GPU###########\n",
    "# x_bound = x_bound.cuda()\n",
    "# t_bound = t_bound.cuda()\n",
    "x = x.cuda()\n",
    "t = t.cuda()\n",
    "###########GPU###########"
   ]
  },
  {
   "cell_type": "code",
   "execution_count": 3,
   "id": "189cc41c",
   "metadata": {
    "ExecuteTime": {
     "end_time": "2024-05-22T09:39:20.777699Z",
     "start_time": "2024-05-22T09:39:20.771475Z"
    }
   },
   "outputs": [],
   "source": [
    "import scipy.io\n",
    "data = scipy.io.loadmat('./burgers_shock.mat')\n",
    "t_ = data['t'].flatten()[:,None]\n",
    "x_ = data['x'].flatten()[:,None]\n",
    "Exact = np.real(data['usol']).T\n",
    "\n",
    "X, T = np.meshgrid(x_,t_)\n",
    "\n",
    "X_star = np.hstack((X.flatten()[:,None],T.flatten()[:,None]))\n",
    "u_star = Exact.flatten()[:,None]  "
   ]
  },
  {
   "cell_type": "code",
   "execution_count": 4,
   "id": "622a4c96",
   "metadata": {
    "ExecuteTime": {
     "end_time": "2024-05-22T09:39:20.785936Z",
     "start_time": "2024-05-22T09:39:20.779497Z"
    }
   },
   "outputs": [],
   "source": [
    "np.random.seed(1234)\n",
    "n=200\n",
    "\n",
    "index_t = (lhs(1,n))*len(t_)\n",
    "index_t = np.floor(index_t).reshape(n,).astype(int)\n",
    "t_star = t_[index_t]\n",
    "\n",
    "index_x = (lhs(1,n))*len(x_)\n",
    "index_x = np.floor(index_x).reshape(n,).astype(int)\n",
    "x_star = x_[index_x]\n",
    "\n",
    "x_t_star = np.hstack((x_star,t_star))\n",
    "u_star_ = Exact[index_t,index_x]"
   ]
  },
  {
   "cell_type": "code",
   "execution_count": 5,
   "id": "9db62537",
   "metadata": {
    "ExecuteTime": {
     "end_time": "2024-05-22T09:39:20.791331Z",
     "start_time": "2024-05-22T09:39:20.787979Z"
    }
   },
   "outputs": [],
   "source": [
    "observe_data = x_t_star\n",
    "observe_u = u_star_.reshape(-1,1)\n",
    "observe_data = torch.from_numpy(observe_data).float()\n",
    "observe_u = torch.from_numpy(observe_u).float()"
   ]
  },
  {
   "cell_type": "code",
   "execution_count": 6,
   "id": "b3ddf7cc",
   "metadata": {
    "ExecuteTime": {
     "end_time": "2024-05-22T09:39:20.796921Z",
     "start_time": "2024-05-22T09:39:20.793588Z"
    }
   },
   "outputs": [],
   "source": [
    "C1 = torch.tensor(0.5, requires_grad=True)"
   ]
  },
  {
   "cell_type": "code",
   "execution_count": 7,
   "id": "ed226f84",
   "metadata": {
    "ExecuteTime": {
     "end_time": "2024-05-22T09:39:20.802267Z",
     "start_time": "2024-05-22T09:39:20.799112Z"
    }
   },
   "outputs": [],
   "source": [
    "###########GPU###########\n",
    "observe_u = observe_u.cuda()\n",
    "observe_data = observe_data.cuda()\n",
    "###########GPU###########"
   ]
  },
  {
   "cell_type": "code",
   "execution_count": 8,
   "id": "bc21247d",
   "metadata": {
    "ExecuteTime": {
     "end_time": "2024-05-22T09:39:20.816908Z",
     "start_time": "2024-05-22T09:39:20.804425Z"
    }
   },
   "outputs": [],
   "source": [
    "np.random.seed(5678)\n",
    "index_t = (lhs(1,10000))*len(t_)\n",
    "index_t = index_t.astype(int).reshape(10000,)\n",
    "t_star = t_[index_t]\n",
    "index_x = (lhs(1,10000))*len(x_)\n",
    "index_x = index_x.astype(int).reshape(10000,)\n",
    "x_star = x_[index_x]\n",
    "test_data = np.hstack((x_star,t_star))\n",
    "test_u = Exact[index_t,index_x].reshape(-1,1)\n",
    "\n",
    "test_data = torch.from_numpy(test_data).float()\n",
    "test_u = torch.from_numpy(test_u).float()\n",
    "\n",
    "###########GPU###########\n",
    "test_data = test_data.cuda()\n",
    "test_u = test_u.cuda()\n",
    "###########GPU###########"
   ]
  },
  {
   "cell_type": "code",
   "execution_count": 9,
   "id": "d649d662",
   "metadata": {
    "ExecuteTime": {
     "end_time": "2024-05-22T09:39:20.824340Z",
     "start_time": "2024-05-22T09:39:20.820701Z"
    }
   },
   "outputs": [],
   "source": [
    "def relative_l2(u_pred, u_real):\n",
    "\n",
    "    l2 = torch.norm(u_real - u_pred, p=2) / torch.norm(u_real, p=2)\n",
    "    \n",
    "    return l2.item()  # Convert the result back to a Python float"
   ]
  },
  {
   "cell_type": "code",
   "execution_count": 10,
   "id": "764ba955",
   "metadata": {
    "ExecuteTime": {
     "end_time": "2024-05-22T09:39:20.830451Z",
     "start_time": "2024-05-22T09:39:20.826557Z"
    }
   },
   "outputs": [],
   "source": [
    "def output_transform(x, y):\n",
    "    x_in = x[:, 0:1]\n",
    "    t_in = x[:, 1:2]\n",
    "\n",
    "    return (1 - x_in) * (1 + x_in) * (1 - torch.exp(-t_in)) * y - torch.sin(np.pi * x_in)"
   ]
  },
  {
   "cell_type": "code",
   "execution_count": null,
   "id": "b7878c2d",
   "metadata": {},
   "outputs": [],
   "source": []
  },
  {
   "cell_type": "code",
   "execution_count": 11,
   "id": "5122bddf",
   "metadata": {
    "ExecuteTime": {
     "end_time": "2024-05-22T09:39:20.839104Z",
     "start_time": "2024-05-22T09:39:20.832809Z"
    }
   },
   "outputs": [],
   "source": [
    "def Loss_f(x_inside,y_inside,PINNs,C,return_sequence='not'):\n",
    "    \n",
    "    ########### loss f  ###########\n",
    "    E_inside = PINNs(torch.cat((x_inside,y_inside),1))\n",
    "    E_inside = output_transform(torch.cat((x_inside,y_inside),axis=1), E_inside)\n",
    "    \n",
    "    \n",
    "    E_x = autograd.grad(outputs=E_inside, inputs=x_inside,\n",
    "                              grad_outputs=torch.ones_like(E_inside),\n",
    "                              create_graph=True, retain_graph=True, only_inputs=True)[0]\n",
    "    E_xx = autograd.grad(outputs=E_x, inputs=x_inside,\n",
    "                              grad_outputs=torch.ones_like(E_x),\n",
    "                              create_graph=True, retain_graph=True, only_inputs=True)[0]\n",
    "    E_t = autograd.grad(outputs=E_inside, inputs=y_inside,\n",
    "                              grad_outputs=torch.ones_like(E_inside),\n",
    "                              create_graph=True, retain_graph=True, only_inputs=True)[0]     \n",
    "    ########### loss f  ###########\n",
    "    \n",
    "    if return_sequence=='yes':\n",
    "        return torch.square(E_t+E_inside*E_x-C*(E_xx))\n",
    "    else:\n",
    "        return torch.mean(torch.square(E_t+E_inside*E_x-C*(E_xx)))"
   ]
  },
  {
   "cell_type": "code",
   "execution_count": null,
   "id": "0336c3db",
   "metadata": {},
   "outputs": [],
   "source": []
  },
  {
   "cell_type": "markdown",
   "id": "154b97b0",
   "metadata": {},
   "source": [
    "## PINN"
   ]
  },
  {
   "cell_type": "code",
   "execution_count": null,
   "id": "8e9f5c2e",
   "metadata": {
    "ExecuteTime": {
     "end_time": "2024-05-22T09:43:58.221581Z",
     "start_time": "2024-05-22T09:39:20.841377Z"
    },
    "scrolled": false
   },
   "outputs": [],
   "source": [
    "torch.manual_seed(1234)\n",
    "torch.cuda.manual_seed(1234)\n",
    "np.random.seed(1234)\n",
    "\n",
    "\n",
    "PINNs1 = NN_H2(2, 20, 7, 1)\n",
    "PINNs1.cuda()\n",
    "\n",
    "#PINNs1.apply(weights_init)\n",
    "import torch.nn.init as init\n",
    "for name, param in PINNs1.named_parameters():\n",
    "    if 'weight' in name:\n",
    "        init.xavier_uniform_(param)\n",
    "\n",
    "\n",
    "optimizer1 = optim.Adam(PINNs1.parameters(), lr=0.001,betas=(0.9, 0.999), eps=1e-08, weight_decay=0, amsgrad=False)\n",
    "\n",
    "optimizer1.add_param_group({'params': [C1], 'lr': 0.001})\n",
    "\n",
    "loss_all_1 = []\n",
    "loss_f_1 = []\n",
    "loss_T_1 = []\n",
    "test_loss_1 = []\n",
    "C1_list = []\n",
    "# 0.01\n",
    "beta_number_list_A = []\n",
    "# 0.005\n",
    "beta_number_list_B = []\n",
    "\n",
    "traindata_batch_list = []\n",
    "bound_x_batch_list = []\n",
    "bound_t_batch_list = []\n",
    "\n",
    "nIter1 = 10000\n",
    "\n",
    "loss1_value = 1\n",
    "it = 0\n",
    "while it<nIter1:\n",
    "   \n",
    "    ##### loss f  ######\n",
    "    loss_f = Loss_f(x,t,PINNs1,C1)\n",
    "    \n",
    "    ##### loss observation  ######        \n",
    "    E_observation = PINNs1(observe_data) \n",
    "    E_observation = output_transform(observe_data, E_observation)    \n",
    "    loss_observation = torch.mean(torch.square(E_observation-observe_u))         \n",
    "    ##### loss observation  ######       \n",
    "    \n",
    "    #####loss PI#######\n",
    "    loss = loss_f+10*loss_observation \n",
    "    #####loss PI#######\n",
    "    \n",
    "    #########  test_loss NRMSE  #########\n",
    "    pre_u = PINNs1(test_data)\n",
    "    pre_u = output_transform(test_data, pre_u)      \n",
    "    test_loss = relative_l2(pre_u,test_u)\n",
    "    #########  test_loss NRMSE  #########\n",
    "    \n",
    "    ##############Record###############\n",
    "    loss_f_1.append(loss_f.item()) \n",
    "    test_loss_1.append(test_loss)\n",
    "    C1_list.append(C1.item())   \n",
    "    loss_T_1.append(loss_observation.item()) \n",
    "    loss_all_1.append(loss.item())\n",
    "    ##############Record###############\n",
    "    \n",
    "    ############### beta_number ###############\n",
    "    loss_f_item = Loss_f(x,t,PINNs1,C1,return_sequence='yes').detach().cpu().numpy()\n",
    "    # 0.01\n",
    "    beta_number_list_A.append(np.sum(loss_f_item <= 0.01)/loss_f_item.shape[0])\n",
    "    # 0.005\n",
    "    beta_number_list_B.append(np.sum(loss_f_item <= 0.005)/loss_f_item.shape[0])\n",
    "    ############### beta_number ###############\n",
    "    \n",
    "    \n",
    "    optimizer1.zero_grad()\n",
    "    loss.backward()\n",
    "    optimizer1.step()\n",
    "    \n",
    "    if it % 1000 == 0:\n",
    "        ###########GPU###########\n",
    "        print('It:', it, 'train_loss:', loss.item(),'test_loss:', test_loss)\n",
    "        print('C1',C1)     \n",
    "    it = it + 1        \n",
    "\n",
    "print('Final:', 'train_loss:', loss.item(), 'test_loss:', test_loss)"
   ]
  },
  {
   "cell_type": "code",
   "execution_count": null,
   "id": "96e30f47",
   "metadata": {},
   "outputs": [],
   "source": []
  }
 ],
 "metadata": {
  "kernelspec": {
   "display_name": "Python (deepxde)",
   "language": "python",
   "name": "test2"
  },
  "language_info": {
   "codemirror_mode": {
    "name": "ipython",
    "version": 3
   },
   "file_extension": ".py",
   "mimetype": "text/x-python",
   "name": "python",
   "nbconvert_exporter": "python",
   "pygments_lexer": "ipython3",
   "version": "3.7.12"
  },
  "toc": {
   "base_numbering": 1,
   "nav_menu": {},
   "number_sections": true,
   "sideBar": true,
   "skip_h1_title": false,
   "title_cell": "Table of Contents",
   "title_sidebar": "Contents",
   "toc_cell": false,
   "toc_position": {},
   "toc_section_display": true,
   "toc_window_display": false
  },
  "varInspector": {
   "cols": {
    "lenName": 16,
    "lenType": 16,
    "lenVar": 40
   },
   "kernels_config": {
    "python": {
     "delete_cmd_postfix": "",
     "delete_cmd_prefix": "del ",
     "library": "var_list.py",
     "varRefreshCmd": "print(var_dic_list())"
    },
    "r": {
     "delete_cmd_postfix": ") ",
     "delete_cmd_prefix": "rm(",
     "library": "var_list.r",
     "varRefreshCmd": "cat(var_dic_list()) "
    }
   },
   "types_to_exclude": [
    "module",
    "function",
    "builtin_function_or_method",
    "instance",
    "_Feature"
   ],
   "window_display": false
  }
 },
 "nbformat": 4,
 "nbformat_minor": 5
}
