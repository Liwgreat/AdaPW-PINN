{
 "cells": [
  {
   "cell_type": "code",
   "execution_count": 1,
   "id": "353a13ed",
   "metadata": {
    "ExecuteTime": {
     "end_time": "2024-05-22T10:39:57.068956Z",
     "start_time": "2024-05-22T10:39:55.903285Z"
    }
   },
   "outputs": [],
   "source": [
    "import numpy as np\n",
    "import torch\n",
    "from torch import nn, optim, autograd\n",
    "from torch.nn import functional as F\n",
    "from pyDOE import lhs\n",
    "import scipy.io\n",
    "import matplotlib.pyplot as plt\n",
    "import matplotlib as mpl\n",
    "import matplotlib.gridspec as gridspec\n",
    "%matplotlib inline\n",
    "from mpl_toolkits.axes_grid1 import make_axes_locatable\n",
    "\n",
    "from models_all import *\n",
    "\n",
    "#Paper reproduction\n",
    "torch.manual_seed(1234)\n",
    "torch.cuda.manual_seed(1234)\n",
    "np.random.seed(1234)"
   ]
  },
  {
   "cell_type": "code",
   "execution_count": null,
   "id": "025fd7d7",
   "metadata": {
    "ExecuteTime": {
     "end_time": "2024-05-22T10:40:00.544773Z",
     "start_time": "2024-05-22T10:39:57.071771Z"
    }
   },
   "outputs": [],
   "source": [
    "N_train = 10000\n",
    "N_bound = 200\n",
    "\n",
    "la = np.array([1,1])\n",
    "lb = np.array([-1,0])\n",
    "\n",
    "traindata = lb+(la-lb)*lhs(2,N_train)\n",
    "\n",
    "bound_x = -1+(1-(-1))*lhs(1,N_bound)\n",
    "\n",
    "bound_t = 0+(1-(0))*lhs(1,N_bound)\n",
    "\n",
    "# #x,t  #u,v\n",
    "X_train = torch.from_numpy(traindata).float()\n",
    "# x_bound = torch.from_numpy(bound_x).float()\n",
    "# t_bound = torch.from_numpy(bound_t).float()\n",
    "x = X_train[:,0:1]\n",
    "t = X_train[:,1:2]\n",
    "\n",
    "x.requires_grad_()\n",
    "t.requires_grad_()\n",
    "\n",
    "###########GPU###########\n",
    "# x_bound = x_bound.cuda()\n",
    "# t_bound = t_bound.cuda()\n",
    "x = x.cuda()\n",
    "t = t.cuda()\n",
    "###########GPU###########"
   ]
  },
  {
   "cell_type": "code",
   "execution_count": null,
   "id": "189cc41c",
   "metadata": {
    "ExecuteTime": {
     "end_time": "2024-05-22T10:40:00.560905Z",
     "start_time": "2024-05-22T10:40:00.560891Z"
    }
   },
   "outputs": [],
   "source": [
    "import scipy.io\n",
    "data = scipy.io.loadmat('./burgers_shock.mat')\n",
    "t_ = data['t'].flatten()[:,None]\n",
    "x_ = data['x'].flatten()[:,None]\n",
    "Exact = np.real(data['usol']).T\n",
    "\n",
    "X, T = np.meshgrid(x_,t_)\n",
    "\n",
    "X_star = np.hstack((X.flatten()[:,None],T.flatten()[:,None]))\n",
    "u_star = Exact.flatten()[:,None]  "
   ]
  },
  {
   "cell_type": "code",
   "execution_count": null,
   "id": "dbc19852",
   "metadata": {
    "ExecuteTime": {
     "end_time": "2024-05-22T10:40:00.562420Z",
     "start_time": "2024-05-22T10:40:00.562406Z"
    }
   },
   "outputs": [],
   "source": [
    "X_star = torch.from_numpy(X_star).float().cuda()"
   ]
  },
  {
   "cell_type": "code",
   "execution_count": null,
   "id": "622a4c96",
   "metadata": {
    "ExecuteTime": {
     "end_time": "2024-05-22T10:40:00.563371Z",
     "start_time": "2024-05-22T10:40:00.563357Z"
    }
   },
   "outputs": [],
   "source": [
    "np.random.seed(1234)\n",
    "n=200\n",
    "\n",
    "index_t = (lhs(1,n))*len(t_)\n",
    "index_t = np.floor(index_t).reshape(n,).astype(int)\n",
    "t_star = t_[index_t]\n",
    "\n",
    "index_x = (lhs(1,n))*len(x_)\n",
    "index_x = np.floor(index_x).reshape(n,).astype(int)\n",
    "x_star = x_[index_x]\n",
    "\n",
    "x_t_star = np.hstack((x_star,t_star))\n",
    "u_star_ = Exact[index_t,index_x]"
   ]
  },
  {
   "cell_type": "code",
   "execution_count": null,
   "id": "9db62537",
   "metadata": {
    "ExecuteTime": {
     "end_time": "2024-05-22T10:40:00.564584Z",
     "start_time": "2024-05-22T10:40:00.564570Z"
    }
   },
   "outputs": [],
   "source": [
    "observe_data = x_t_star\n",
    "observe_u = u_star_.reshape(-1,1)\n",
    "observe_data = torch.from_numpy(observe_data).float()\n",
    "observe_u = torch.from_numpy(observe_u).float()"
   ]
  },
  {
   "cell_type": "code",
   "execution_count": null,
   "id": "b3ddf7cc",
   "metadata": {
    "ExecuteTime": {
     "end_time": "2024-05-22T10:40:00.565692Z",
     "start_time": "2024-05-22T10:40:00.565679Z"
    }
   },
   "outputs": [],
   "source": [
    "C1 = torch.tensor(0.5, requires_grad=True)"
   ]
  },
  {
   "cell_type": "code",
   "execution_count": null,
   "id": "ed226f84",
   "metadata": {
    "ExecuteTime": {
     "end_time": "2024-05-22T10:40:00.566841Z",
     "start_time": "2024-05-22T10:40:00.566828Z"
    }
   },
   "outputs": [],
   "source": [
    "###########GPU###########\n",
    "observe_u = observe_u.cuda()\n",
    "observe_data = observe_data.cuda()\n",
    "###########GPU###########"
   ]
  },
  {
   "cell_type": "code",
   "execution_count": null,
   "id": "bc21247d",
   "metadata": {
    "ExecuteTime": {
     "end_time": "2024-05-22T10:40:00.567940Z",
     "start_time": "2024-05-22T10:40:00.567927Z"
    }
   },
   "outputs": [],
   "source": [
    "np.random.seed(5678)\n",
    "index_t = (lhs(1,10000))*len(t_)\n",
    "index_t = index_t.astype(int).reshape(10000,)\n",
    "t_star = t_[index_t]\n",
    "index_x = (lhs(1,10000))*len(x_)\n",
    "index_x = index_x.astype(int).reshape(10000,)\n",
    "x_star = x_[index_x]\n",
    "test_data = np.hstack((x_star,t_star))\n",
    "test_u = Exact[index_t,index_x].reshape(-1,1)\n",
    "\n",
    "test_data = torch.from_numpy(test_data).float()\n",
    "test_u = torch.from_numpy(test_u).float()\n",
    "\n",
    "###########GPU###########\n",
    "test_data = test_data.cuda()\n",
    "test_u = test_u.cuda()\n",
    "###########GPU###########"
   ]
  },
  {
   "cell_type": "code",
   "execution_count": null,
   "id": "d649d662",
   "metadata": {
    "ExecuteTime": {
     "end_time": "2024-05-22T10:40:00.568937Z",
     "start_time": "2024-05-22T10:40:00.568924Z"
    }
   },
   "outputs": [],
   "source": [
    "def relative_l2(u_pred, u_real):\n",
    "\n",
    "    l2 = torch.norm(u_real - u_pred, p=2) / torch.norm(u_real, p=2)\n",
    "    \n",
    "    return l2.item()  # Convert the result back to a Python float"
   ]
  },
  {
   "cell_type": "code",
   "execution_count": null,
   "id": "764ba955",
   "metadata": {
    "ExecuteTime": {
     "end_time": "2024-05-22T10:40:00.570965Z",
     "start_time": "2024-05-22T10:40:00.570950Z"
    }
   },
   "outputs": [],
   "source": [
    "def output_transform(x, y):\n",
    "    x_in = x[:, 0:1]\n",
    "    t_in = x[:, 1:2]\n",
    "\n",
    "    return (1 - x_in) * (1 + x_in) * (1 - torch.exp(-t_in)) * y - torch.sin(np.pi * x_in)"
   ]
  },
  {
   "cell_type": "code",
   "execution_count": null,
   "id": "b7878c2d",
   "metadata": {},
   "outputs": [],
   "source": []
  },
  {
   "cell_type": "code",
   "execution_count": null,
   "id": "5122bddf",
   "metadata": {
    "ExecuteTime": {
     "end_time": "2024-05-22T10:40:00.572275Z",
     "start_time": "2024-05-22T10:40:00.572262Z"
    }
   },
   "outputs": [],
   "source": [
    "def Loss_f(x_inside,y_inside,PINNs,C,return_sequence='not'):\n",
    "    \n",
    "    ########### loss f  ###########\n",
    "    E_inside = PINNs(torch.cat((x_inside,y_inside),1))\n",
    "    E_inside = output_transform(torch.cat((x_inside,y_inside),axis=1), E_inside)\n",
    "    \n",
    "    \n",
    "    E_x = autograd.grad(outputs=E_inside, inputs=x_inside,\n",
    "                              grad_outputs=torch.ones_like(E_inside),\n",
    "                              create_graph=True, retain_graph=True, only_inputs=True)[0]\n",
    "    E_xx = autograd.grad(outputs=E_x, inputs=x_inside,\n",
    "                              grad_outputs=torch.ones_like(E_x),\n",
    "                              create_graph=True, retain_graph=True, only_inputs=True)[0]\n",
    "    E_t = autograd.grad(outputs=E_inside, inputs=y_inside,\n",
    "                              grad_outputs=torch.ones_like(E_inside),\n",
    "                              create_graph=True, retain_graph=True, only_inputs=True)[0]     \n",
    "\n",
    "    #loss_f = torch.mean(torch.square(E_t+E_inside*E_x-C1*(E_xx)))\n",
    "    #loss_f = torch.mean(torch.square(deata_E+torch.sin(torch.tensor(np.pi)*x)*torch.sin(torch.tensor(np.pi)*y)))\n",
    "    ########### loss f  ###########\n",
    "    \n",
    "    if return_sequence=='yes':\n",
    "        return torch.square(E_t+E_inside*E_x-C*(E_xx))\n",
    "    else:\n",
    "        return torch.mean(torch.square(E_t+E_inside*E_x-C*(E_xx)))"
   ]
  },
  {
   "cell_type": "code",
   "execution_count": null,
   "id": "0336c3db",
   "metadata": {
    "ExecuteTime": {
     "end_time": "2024-05-22T10:40:00.573896Z",
     "start_time": "2024-05-22T10:40:00.573883Z"
    }
   },
   "outputs": [],
   "source": [
    "if torch.cuda.is_available():\n",
    "    device = \"cuda\"\n",
    "    print(\"Using CUDA on GPU\")\n",
    "else:\n",
    "    device = \"cpu\"\n",
    "    print(\"Using CPU\")"
   ]
  },
  {
   "cell_type": "markdown",
   "id": "154b97b0",
   "metadata": {},
   "source": [
    "## PINN"
   ]
  },
  {
   "cell_type": "code",
   "execution_count": null,
   "id": "8e9f5c2e",
   "metadata": {
    "ExecuteTime": {
     "end_time": "2024-05-22T10:40:00.575564Z",
     "start_time": "2024-05-22T10:40:00.575550Z"
    },
    "scrolled": false
   },
   "outputs": [],
   "source": [
    "torch.manual_seed(1234)\n",
    "torch.cuda.manual_seed(1234)\n",
    "np.random.seed(1234)\n",
    "\n",
    "\n",
    "##############PW_L_f###############\n",
    "e_k = 0.005\n",
    "q_k = 0.0005\n",
    "s_k = 0.7\n",
    "Ada_CL_L_f = Ada_CL(e_k,q_k,s_k,device)\n",
    "weight_sequence_L_f = (1/N_train)*np.ones((N_train,1))\n",
    "##############PW_L_f###############\n",
    "\n",
    "\n",
    "PINNs1 = NN_H2(2, 20, 7, 1)\n",
    "PINNs1.cuda()\n",
    "\n",
    "#PINNs1.apply(weights_init)\n",
    "import torch.nn.init as init\n",
    "for name, param in PINNs1.named_parameters():\n",
    "    if 'weight' in name:\n",
    "        init.xavier_uniform_(param)\n",
    "\n",
    "\n",
    "optimizer1 = optim.Adam(PINNs1.parameters(), lr=0.001,betas=(0.9, 0.999), eps=1e-08, weight_decay=0, amsgrad=False)\n",
    "\n",
    "optimizer1.add_param_group({'params': [C1], 'lr': 0.001})\n",
    "\n",
    "loss_all_1 = []\n",
    "loss_all_2 = []\n",
    "loss_T_1 = []\n",
    "test_loss_1 = []\n",
    "C1_list = []\n",
    "beta_number_list = []\n",
    "rho_k_list = []\n",
    "\n",
    "loss_f_sequence_list = []\n",
    "weight_sequence_L_f_list = []\n",
    "plot_heat_list = []\n",
    "\n",
    "nIter1 = 10000\n",
    "\n",
    "loss1_value = 1\n",
    "it = 0\n",
    "while it<nIter1:\n",
    "        \n",
    "    ##############PW_L_f###############\n",
    "    loss_f_sequence = Loss_f(x,t,PINNs1,C1,return_sequence='yes')\n",
    "    loss_f,weight_sequence_L_f,rho_k,beta_sequence  = Ada_CL_L_f.Training_Scheduler_torch(loss_f_sequence, weight_sequence_L_f,alpha_k_function = 'default',record = 'yes')\n",
    "    beta_number_list.append(np.sum(beta_sequence)/N_train)\n",
    "    rho_k_list.append(rho_k)\n",
    "    ##############PW_L_f###############    \n",
    "\n",
    "    ##### loss observation  ######        \n",
    "    E_observation = PINNs1(observe_data) \n",
    "    E_observation = output_transform(observe_data, E_observation)    \n",
    "    loss_observation = torch.mean(torch.square(E_observation-observe_u))         \n",
    "    ##### loss observation  ######       \n",
    "    \n",
    "    #####loss PI#######\n",
    "    loss = loss_f+10*loss_observation \n",
    "    #####loss PI#######\n",
    "    \n",
    "    #########  test_loss NRMSE  #########\n",
    "    pre_u = PINNs1(test_data)\n",
    "    pre_u = output_transform(test_data, pre_u)      \n",
    "    test_loss = relative_l2(pre_u,test_u)\n",
    "    #########  test_loss NRMSE  #########\n",
    "           \n",
    "\n",
    "    ############## Record ###############\n",
    "    test_loss_1.append(test_loss)\n",
    "    C1_list.append(C1.item())   \n",
    "    loss_T_1.append(loss_observation.item()) \n",
    "    loss_all_1.append(loss.item())\n",
    "    ############## Record ###############\n",
    "    \n",
    "    ############## Record Original ###############\n",
    "    loss_f_original = Loss_f(x,t,PINNs1,C1,return_sequence='not')\n",
    "    loss_original = loss_f_original+10*loss_observation \n",
    "    loss_all_2.append(loss_original.item())\n",
    "    ############## Record Original ###############\n",
    "    \n",
    "    if it % 1000 == 0:\n",
    "        loss_f_sequence_list.append(loss_f_sequence.cpu().detach().numpy())\n",
    "        weight_sequence_L_f_list.append(weight_sequence_L_f)\n",
    "        pre_u_for_plot = PINNs1(X_star)\n",
    "        pre_u_for_plot = output_transform(X_star, pre_u_for_plot)     \n",
    "        plot_heat_list.append(pre_u_for_plot.cpu().detach().numpy())\n",
    "        print('It:', it, 'train_loss:', loss.item(), 'test_loss:', test_loss) \n",
    "        \n",
    "    optimizer1.zero_grad()\n",
    "    loss.backward()\n",
    "    optimizer1.step()\n",
    "    \n",
    "    it = it + 1        \n",
    "    \n",
    "\n",
    "print('Final:', 'train_loss:', loss.item(), 'test_loss:', test_loss)"
   ]
  },
  {
   "cell_type": "code",
   "execution_count": null,
   "id": "7c5de0d1",
   "metadata": {},
   "outputs": [],
   "source": []
  }
 ],
 "metadata": {
  "kernelspec": {
   "display_name": "Python (deepxde)",
   "language": "python",
   "name": "test2"
  },
  "language_info": {
   "codemirror_mode": {
    "name": "ipython",
    "version": 3
   },
   "file_extension": ".py",
   "mimetype": "text/x-python",
   "name": "python",
   "nbconvert_exporter": "python",
   "pygments_lexer": "ipython3",
   "version": "3.7.12"
  },
  "toc": {
   "base_numbering": 1,
   "nav_menu": {},
   "number_sections": true,
   "sideBar": true,
   "skip_h1_title": false,
   "title_cell": "Table of Contents",
   "title_sidebar": "Contents",
   "toc_cell": false,
   "toc_position": {
    "height": "calc(100% - 180px)",
    "left": "10px",
    "top": "150px",
    "width": "298.667px"
   },
   "toc_section_display": true,
   "toc_window_display": false
  },
  "varInspector": {
   "cols": {
    "lenName": 16,
    "lenType": 16,
    "lenVar": 40
   },
   "kernels_config": {
    "python": {
     "delete_cmd_postfix": "",
     "delete_cmd_prefix": "del ",
     "library": "var_list.py",
     "varRefreshCmd": "print(var_dic_list())"
    },
    "r": {
     "delete_cmd_postfix": ") ",
     "delete_cmd_prefix": "rm(",
     "library": "var_list.r",
     "varRefreshCmd": "cat(var_dic_list()) "
    }
   },
   "types_to_exclude": [
    "module",
    "function",
    "builtin_function_or_method",
    "instance",
    "_Feature"
   ],
   "window_display": false
  }
 },
 "nbformat": 4,
 "nbformat_minor": 5
}
